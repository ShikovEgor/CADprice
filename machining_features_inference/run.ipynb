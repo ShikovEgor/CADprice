{
 "cells": [
  {
   "cell_type": "code",
   "execution_count": 6,
   "id": "301da266-54ca-4830-ad25-c7eb8c2b4de2",
   "metadata": {
    "pycharm": {
     "name": "#%%\n"
    }
   },
   "outputs": [
    {
     "name": "stdout",
     "output_type": "stream",
     "text": [
      "The autoreload extension is already loaded. To reload it, use:\n",
      "  %reload_ext autoreload\n"
     ]
    }
   ],
   "source": [
    "%load_ext autoreload\n",
    "%autoreload 2\n",
    "\n",
    "import os\n",
    "import torch\n",
    "import torch.optim as optim\n",
    "import torch.nn.functional as F\n",
    "import json\n",
    "import numpy as np\n",
    "\n",
    "\n",
    "from datasets.fusiongallery import FusionGalleryDataset\n",
    "from datasets.mfcad import MFCADDataset\n",
    "from datasets.mfcad_extended import MFCADPDataset\n",
    "from datasets.mftest import MFTestDataset\n",
    "\n",
    "from uvnet.models import UVNetSegmenter\n",
    "\n",
    "from evaluation.jaccard import get_mf_jaccard\n",
    "from tqdm import tqdm"
   ]
  },
  {
   "cell_type": "code",
   "execution_count": 7,
   "id": "b607d709-5c33-4652-bb77-a767db65a8d1",
   "metadata": {
    "pycharm": {
     "name": "#%%\n"
    }
   },
   "outputs": [],
   "source": [
    "class AttrDict(dict):\n",
    "    __getattr__ = dict.__getitem__\n",
    "    __setattr__ = dict.__setitem__\n",
    "    __delattr__ = dict.__delitem__\n",
    "    \n",
    "args = AttrDict({})\n",
    "args.batch_size = 512\n",
    "args.random_rotate = True\n",
    "args.num_workers = 100\n",
    "args.dataset = \"mfcadps\"\n",
    "args.crv_in_channels = 6\n",
    "args.max_epochs = 10\n",
    "\n",
    "# args.dataset_path = '/home/egor/data/machining_features_sprint_1/'\n",
    "# args.dataset_path = '/home/egor/data/mftest20/'\n",
    "\n",
    "\n",
    "args.dataset_path = \"/home/egor/data/MFCAD++_dataset/converted_10\"\n",
    "if args.dataset == \"mfcad\":\n",
    "    Dataset = MFCADDataset\n",
    "elif args.dataset == \"fusiongallery\":\n",
    "    Dataset = FusionGalleryDataset\n",
    "elif args.dataset == \"mfcadp\":\n",
    "    Dataset = MFCADPDataset"
   ]
  },
  {
   "cell_type": "code",
   "execution_count": 8,
   "id": "ff540906-fe75-41e8-9910-a8921e8f1862",
   "metadata": {
    "tags": [],
    "pycharm": {
     "name": "#%%\n"
    }
   },
   "outputs": [
    {
     "name": "stderr",
     "output_type": "stream",
     "text": [
      "  0%|          | 0/2600 [00:00<?, ?it/s]/home/egor/miniconda3/envs/uv_net/lib/python3.9/site-packages/dgl/base.py:45: DGLWarning: You are loading a graph file saved by old version of dgl.              Please consider saving it again with the current format.\n",
      "  return warnings.warn(message, category=category, stacklevel=1)\n",
      "  4%|▍         | 99/2600 [00:00<00:02, 985.59it/s]"
     ]
    },
    {
     "name": "stdout",
     "output_type": "stream",
     "text": [
      "/home/egor/data/SolidLetters/graph_with_eattr/a_Overpass Mono SemiBold_lower.bin True\n"
     ]
    },
    {
     "name": "stderr",
     "output_type": "stream",
     "text": [
      "100%|██████████| 2600/2600 [00:02<00:00, 1019.92it/s]\n",
      "  0%|          | 0/2600 [00:00<?, ?it/s]"
     ]
    },
    {
     "name": "stdout",
     "output_type": "stream",
     "text": [
      "Done loading 2600 files\n",
      "/home/egor/data/SolidLetters/graph_with_eattr/a_Inconsolata_upper.bin True\n"
     ]
    },
    {
     "name": "stderr",
     "output_type": "stream",
     "text": [
      "/home/egor/miniconda3/envs/uv_net/lib/python3.9/site-packages/dgl/base.py:45: DGLWarning: You are loading a graph file saved by old version of dgl.              Please consider saving it again with the current format.\n",
      "  return warnings.warn(message, category=category, stacklevel=1)\n",
      "100%|██████████| 2600/2600 [00:02<00:00, 1050.89it/s]\n"
     ]
    },
    {
     "name": "stdout",
     "output_type": "stream",
     "text": [
      "Done loading 2600 files\n"
     ]
    }
   ],
   "source": [
    "fnm_list = os.listdir('/home/egor/data/SolidLetters/graph_with_eattr')\n",
    "N_ITEMS_PER_CLASS = 100\n",
    "\n",
    "# creating loaders for SolidLetters dataset quering\n",
    "test_loaders = []\n",
    "for case in ('lower', 'upper'):\n",
    "    ncl, fnm_labels = sample_from_letter(fnm_list, N_ITEMS_PER_CLASS, case)\n",
    "    dset = RankingDataset('/home/egor/data/SolidLetters/graph_with_eattr/', \n",
    "                           fnm_labels, \n",
    "                           ncl)\n",
    "    test_loaders.append(dset.get_dataloader(batch_size=args.batch_size, shuffle=False, num_workers=args.num_workers))"
   ]
  },
  {
   "cell_type": "code",
   "execution_count": 9,
   "id": "707770b4-2694-4f94-b3b3-2533c8fb40c2",
   "metadata": {
    "pycharm": {
     "name": "#%%\n"
    }
   },
   "outputs": [],
   "source": [
    "class Segmentation:\n",
    "    \"\"\"\n",
    "    module to train/test the segmenter (per-face classifier).\n",
    "    \"\"\"\n",
    "\n",
    "    def __init__(self, num_classes, crv_in_channels=6):\n",
    "        \"\"\"\n",
    "        Args:\n",
    "            num_classes (int): Number of per-face classes in the dataset\n",
    "        \"\"\"\n",
    "        self.device = torch.device('cuda:0') \n",
    "        \n",
    "        self.model = UVNetSegmenter(num_classes, crv_in_channels=crv_in_channels)   \n",
    "        self.model = self.model.to(device = self.device)\n",
    "        \n",
    "        self.optimizer = optim.Adam(self.model.parameters(), lr=0.001, weight_decay= 0.0007)\n",
    "        \n",
    "\n",
    "    def forward(self, batched_graph):\n",
    "        logits = self.model(batched_graph)\n",
    "        return logits\n",
    "\n",
    "    def training_step(self, batch, batch_idx):\n",
    "        inputs = batch[\"graph\"].to(self.device)\n",
    "        inputs.ndata[\"x\"] = inputs.ndata[\"x\"].permute(0, 3, 1, 2)\n",
    "        inputs.edata[\"x\"] = inputs.edata[\"x\"].permute(0, 2, 1)\n",
    "        labels = inputs.ndata[\"y\"]\n",
    "        logits = self.model(inputs)\n",
    "        loss = F.cross_entropy(logits, labels, reduction=\"mean\")\n",
    "        # self.log(\"train_loss\", loss, on_step=False, on_epoch=True, sync_dist=True)\n",
    "        preds = F.softmax(logits, dim=-1)\n",
    "        # self.train_iou(preds, labels)\n",
    "        # self.train_accuracy(preds, labels)\n",
    "        return loss\n",
    "    \n",
    "    @torch.no_grad()\n",
    "    def validation_step(self, batch, valid_preds):\n",
    "        inputs = batch[\"graph\"].to(self.device)\n",
    "        inputs.ndata[\"x\"] = inputs.ndata[\"x\"].permute(0, 3, 1, 2)\n",
    "        inputs.edata[\"x\"] = inputs.edata[\"x\"].permute(0, 2, 1)\n",
    "        logits = self.model(inputs)\n",
    "        \n",
    "        softmax = F.softmax(logits, dim=-1)  \n",
    "        preds = softmax.argmax(dim=1).cpu().numpy().tolist()\n",
    "        valid_preds[batch[\"filename\"]] = preds\n",
    "\n",
    "\n",
    "    def train(self, data_loader):\n",
    "        self.model.train()\n",
    "    \n",
    "        for batch_idx, batch  in tqdm(enumerate(data_loader), desc=\"Training\", total=len(data_loader)):  \n",
    "            self.optimizer.zero_grad()\n",
    "            \n",
    "            loss = self.training_step(batch, batch_idx)\n",
    "\n",
    "            loss.backward()\n",
    "            self.optimizer.step()    \n",
    "        print(loss.item())\n",
    "\n",
    "    @torch.no_grad()\n",
    "    def valid(self, dataset):  \n",
    "        self.model.eval()  \n",
    "        valid_preds = dict()\n",
    "        for batch_idx, batch  in tqdm(enumerate(dataset), desc=\"Validation\", total=len(dataset)):  \n",
    "            self.validation_step(batch, valid_preds)\n",
    "        \n",
    "        jaccards = []\n",
    "        for sample in dataset:\n",
    "            flnm = sample['filename']\n",
    "            if flnm in valid_preds:\n",
    "                jaccards.append(get_mf_jaccard(sample=sample, \n",
    "                                           labels=valid_preds[flnm]))\n",
    "        print('jaccared', np.mean(jaccards))\n",
    "        return np.mean(jaccards)"
   ]
  },
  {
   "cell_type": "code",
   "execution_count": 10,
   "id": "f1ae518e-02fd-4987-bab5-ba90e9809a6b",
   "metadata": {
    "pycharm": {
     "name": "#%%\n"
    }
   },
   "outputs": [
    {
     "name": "stderr",
     "output_type": "stream",
     "text": [
      "  1%|          | 284/41730 [00:00<00:14, 2836.76it/s]"
     ]
    },
    {
     "name": "stdout",
     "output_type": "stream",
     "text": [
      "Loading train data...\n"
     ]
    },
    {
     "name": "stderr",
     "output_type": "stream",
     "text": [
      "100%|██████████| 41730/41730 [00:14<00:00, 2810.35it/s]\n"
     ]
    },
    {
     "name": "stdout",
     "output_type": "stream",
     "text": [
      "Done loading 41730 files\n"
     ]
    }
   ],
   "source": [
    "train_data = Dataset(\n",
    "    root_dir=args.dataset_path, split=\"train\", random_rotate=args.random_rotate\n",
    ")"
   ]
  },
  {
   "cell_type": "code",
   "execution_count": 11,
   "id": "8247b7da-07d5-4d21-b016-a4ff8ba35321",
   "metadata": {
    "pycharm": {
     "name": "#%%\n"
    }
   },
   "outputs": [
    {
     "name": "stderr",
     "output_type": "stream",
     "text": [
      "100%|██████████| 469/469 [01:40<00:00,  4.69it/s]\n"
     ]
    },
    {
     "name": "stdout",
     "output_type": "stream",
     "text": [
      "Done loading 469 files\n"
     ]
    }
   ],
   "source": [
    "with open(\"/home/egor/data/janush_dataset/non_duplicated_filenames.json\", 'r') as f:\n",
    "    allowed = set(json.load(f))\n",
    "\n",
    "val_data = MFTestDataset(\n",
    "    root_dir=\"/home/egor/data/janush_dataset/converted_10/\", split=\"test\",  random_rotate=False, allow_list=allowed\n",
    ")"
   ]
  },
  {
   "cell_type": "code",
   "execution_count": 12,
   "id": "7f6abced-1fff-4a16-a442-66568c28646e",
   "metadata": {
    "pycharm": {
     "name": "#%%\n"
    }
   },
   "outputs": [],
   "source": [
    "model = Segmentation(\n",
    "    num_classes=Dataset.num_classes(), \n",
    "    crv_in_channels=args.crv_in_channels\n",
    ")"
   ]
  },
  {
   "cell_type": "code",
   "execution_count": 13,
   "id": "5fe1ac47-0bb3-4d22-8809-35212fa347e9",
   "metadata": {
    "pycharm": {
     "name": "#%%\n"
    }
   },
   "outputs": [],
   "source": [
    "train_loader = train_data.get_dataloader(\n",
    "    batch_size=args.batch_size, shuffle=True, num_workers=args.num_workers\n",
    ")\n",
    "val_loader = val_data.get_dataloader(\n",
    "    batch_size=1, shuffle=False, num_workers=1\n",
    ")"
   ]
  },
  {
   "cell_type": "code",
   "execution_count": null,
   "id": "fa4ac789-e81d-48a7-a071-b40e33930c36",
   "metadata": {
    "pycharm": {
     "name": "#%%\n"
    }
   },
   "outputs": [
    {
     "name": "stdout",
     "output_type": "stream",
     "text": [
      "epoch 1\n"
     ]
    },
    {
     "name": "stderr",
     "output_type": "stream",
     "text": [
      "Training: 100%|██████████| 81/81 [01:31<00:00,  1.13s/it]\n",
      "Validation:   4%|▎         | 17/469 [00:00<00:02, 164.61it/s]"
     ]
    },
    {
     "name": "stdout",
     "output_type": "stream",
     "text": [
      "0.07699595391750336\n"
     ]
    },
    {
     "name": "stderr",
     "output_type": "stream",
     "text": [
      "Validation: 100%|██████████| 469/469 [00:03<00:00, 149.63it/s]\n"
     ]
    },
    {
     "name": "stdout",
     "output_type": "stream",
     "text": [
      "jaccared 0.508222300710451\n",
      "epoch 2\n"
     ]
    },
    {
     "name": "stderr",
     "output_type": "stream",
     "text": [
      "Training: 100%|██████████| 81/81 [01:31<00:00,  1.13s/it]\n",
      "Validation:   3%|▎         | 15/469 [00:00<00:03, 149.19it/s]"
     ]
    },
    {
     "name": "stdout",
     "output_type": "stream",
     "text": [
      "0.07329627871513367\n"
     ]
    },
    {
     "name": "stderr",
     "output_type": "stream",
     "text": [
      "Validation: 100%|██████████| 469/469 [00:03<00:00, 140.40it/s]\n"
     ]
    },
    {
     "name": "stdout",
     "output_type": "stream",
     "text": [
      "jaccared 0.5273431388133738\n",
      "epoch 3\n"
     ]
    },
    {
     "name": "stderr",
     "output_type": "stream",
     "text": [
      "Training: 100%|██████████| 81/81 [01:31<00:00,  1.13s/it]\n",
      "Validation:   4%|▎         | 17/469 [00:00<00:02, 162.69it/s]"
     ]
    },
    {
     "name": "stdout",
     "output_type": "stream",
     "text": [
      "0.0722552090883255\n"
     ]
    },
    {
     "name": "stderr",
     "output_type": "stream",
     "text": [
      "Validation: 100%|██████████| 469/469 [00:03<00:00, 146.51it/s]\n"
     ]
    },
    {
     "name": "stdout",
     "output_type": "stream",
     "text": [
      "jaccared 0.5181583892940564\n",
      "epoch 4\n"
     ]
    },
    {
     "name": "stderr",
     "output_type": "stream",
     "text": [
      "Training: 100%|██████████| 81/81 [01:31<00:00,  1.13s/it]\n",
      "Validation:   3%|▎         | 16/469 [00:00<00:02, 155.40it/s]"
     ]
    },
    {
     "name": "stdout",
     "output_type": "stream",
     "text": [
      "0.06665526330471039\n"
     ]
    },
    {
     "name": "stderr",
     "output_type": "stream",
     "text": [
      "Validation: 100%|██████████| 469/469 [00:03<00:00, 139.89it/s]\n"
     ]
    },
    {
     "name": "stdout",
     "output_type": "stream",
     "text": [
      "jaccared 0.5197461007093894\n",
      "epoch 5\n"
     ]
    },
    {
     "name": "stderr",
     "output_type": "stream",
     "text": [
      "Training: 100%|██████████| 81/81 [01:31<00:00,  1.13s/it]\n",
      "Validation:   3%|▎         | 15/469 [00:00<00:03, 147.67it/s]"
     ]
    },
    {
     "name": "stdout",
     "output_type": "stream",
     "text": [
      "0.07357190549373627\n"
     ]
    },
    {
     "name": "stderr",
     "output_type": "stream",
     "text": [
      "Validation: 100%|██████████| 469/469 [00:03<00:00, 137.67it/s]\n"
     ]
    },
    {
     "name": "stdout",
     "output_type": "stream",
     "text": [
      "jaccared 0.5146356545490425\n",
      "epoch 6\n"
     ]
    },
    {
     "name": "stderr",
     "output_type": "stream",
     "text": [
      "Training: 100%|██████████| 81/81 [01:31<00:00,  1.13s/it]\n",
      "Validation:   3%|▎         | 16/469 [00:00<00:02, 157.23it/s]"
     ]
    },
    {
     "name": "stdout",
     "output_type": "stream",
     "text": [
      "0.05732521414756775\n"
     ]
    },
    {
     "name": "stderr",
     "output_type": "stream",
     "text": [
      "Validation: 100%|██████████| 469/469 [00:03<00:00, 145.01it/s]\n"
     ]
    },
    {
     "name": "stdout",
     "output_type": "stream",
     "text": [
      "jaccared 0.5189247198054591\n",
      "epoch 7\n"
     ]
    },
    {
     "name": "stderr",
     "output_type": "stream",
     "text": [
      "Training: 100%|██████████| 81/81 [01:31<00:00,  1.13s/it]\n",
      "Validation:   3%|▎         | 15/469 [00:00<00:03, 149.81it/s]"
     ]
    },
    {
     "name": "stdout",
     "output_type": "stream",
     "text": [
      "0.06131221354007721\n"
     ]
    },
    {
     "name": "stderr",
     "output_type": "stream",
     "text": [
      "Validation: 100%|██████████| 469/469 [00:03<00:00, 142.30it/s]\n"
     ]
    },
    {
     "name": "stdout",
     "output_type": "stream",
     "text": [
      "jaccared 0.565045913071092\n",
      "epoch 8\n"
     ]
    },
    {
     "name": "stderr",
     "output_type": "stream",
     "text": [
      "Training: 100%|██████████| 81/81 [01:31<00:00,  1.13s/it]\n",
      "Validation:   4%|▎         | 17/469 [00:00<00:02, 163.63it/s]"
     ]
    },
    {
     "name": "stdout",
     "output_type": "stream",
     "text": [
      "0.05702909454703331\n"
     ]
    },
    {
     "name": "stderr",
     "output_type": "stream",
     "text": [
      "Validation: 100%|██████████| 469/469 [00:03<00:00, 147.48it/s]\n"
     ]
    },
    {
     "name": "stdout",
     "output_type": "stream",
     "text": [
      "jaccared 0.5129363038937852\n",
      "epoch 9\n"
     ]
    },
    {
     "name": "stderr",
     "output_type": "stream",
     "text": [
      "Training: 100%|██████████| 81/81 [01:31<00:00,  1.13s/it]\n",
      "Validation:   4%|▎         | 17/469 [00:00<00:02, 164.99it/s]"
     ]
    },
    {
     "name": "stdout",
     "output_type": "stream",
     "text": [
      "0.05182715877890587\n"
     ]
    },
    {
     "name": "stderr",
     "output_type": "stream",
     "text": [
      "Validation: 100%|██████████| 469/469 [00:03<00:00, 149.64it/s]\n"
     ]
    },
    {
     "name": "stdout",
     "output_type": "stream",
     "text": [
      "jaccared 0.4955406058920413\n",
      "epoch 10\n"
     ]
    }
   ],
   "source": [
    "jaccards = {}\n",
    "for epoch in range(1, args.max_epochs + 1):\n",
    "    print(f\"epoch {epoch}\")\n",
    "    model.train(train_loader)\n",
    "    \n",
    "    #map_metr = cals_map_all(test_loaders, model.model, model.device)\n",
    "    #print('map@k ', map_metr)\n",
    "    jaccards[epoch] = model.valid(val_data)"
   ]
  },
  {
   "cell_type": "code",
   "execution_count": 16,
   "id": "697d6822-7156-4753-ae19-7d282b0e61b3",
   "metadata": {
    "pycharm": {
     "name": "#%%\n"
    }
   },
   "outputs": [
    {
     "name": "stderr",
     "output_type": "stream",
     "text": [
      "Validation: 100%|██████████| 469/469 [00:03<00:00, 140.80it/s]\n"
     ]
    },
    {
     "name": "stdout",
     "output_type": "stream",
     "text": [
      "jaccared 0.5681343692312089\n"
     ]
    },
    {
     "data": {
      "text/plain": [
       "0.5681343692312089"
      ]
     },
     "execution_count": 16,
     "metadata": {},
     "output_type": "execute_result"
    }
   ],
   "source": [
    "model.valid(val_data)"
   ]
  },
  {
   "cell_type": "code",
   "execution_count": null,
   "id": "620474d7-acdd-4457-a727-d9c7e3045b30",
   "metadata": {
    "pycharm": {
     "name": "#%%\n"
    }
   },
   "outputs": [],
   "source": []
  },
  {
   "cell_type": "code",
   "execution_count": null,
   "id": "2e8a90f4-7ce7-435d-a761-727da263530d",
   "metadata": {
    "pycharm": {
     "name": "#%%\n"
    }
   },
   "outputs": [],
   "source": []
  }
 ],
 "metadata": {
  "kernelspec": {
   "display_name": "uv_net",
   "language": "python",
   "name": "uv_net"
  },
  "language_info": {
   "codemirror_mode": {
    "name": "ipython",
    "version": 3
   },
   "file_extension": ".py",
   "mimetype": "text/x-python",
   "name": "python",
   "nbconvert_exporter": "python",
   "pygments_lexer": "ipython3",
   "version": "3.9.16"
  }
 },
 "nbformat": 4,
 "nbformat_minor": 5
}