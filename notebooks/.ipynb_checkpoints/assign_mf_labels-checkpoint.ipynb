{
 "cells": [
  {
   "cell_type": "code",
   "execution_count": 1,
   "id": "b7e7ecd0-0fda-4f91-adf9-54286ddf39d8",
   "metadata": {
    "tags": []
   },
   "outputs": [
    {
     "name": "stderr",
     "output_type": "stream",
     "text": [
      "Using backend: pytorch\n"
     ]
    }
   ],
   "source": [
    "%load_ext autoreload\n",
    "%autoreload 2\n",
    "\n",
    "import os\n",
    "import json\n",
    "\n",
    "import argparse\n",
    "import pathlib\n",
    "import time\n",
    "import os\n",
    "import sys\n",
    "module_path = os.path.abspath(os.path.join('..'))\n",
    "if module_path not in sys.path:\n",
    "    sys.path.append(module_path)\n",
    "\n",
    "import torch\n",
    "import torch.nn.functional as F\n",
    "    \n",
    "from pytorch_lightning import Trainer\n",
    "from pytorch_lightning.callbacks import ModelCheckpoint\n",
    "from pytorch_lightning.loggers import TensorBoardLogger\n",
    "from pytorch_lightning.utilities.seed import seed_everything\n",
    "\n",
    "from datasets.fusiongallery import FusionGalleryDataset\n",
    "from datasets.mfcad import MFCADDataset\n",
    "from datasets.mfcad_extended import MFCADPDataset\n",
    "from datasets.mftest import MFTestDataset\n",
    "\n",
    "from uvnet.models import Segmentation\n",
    "\n",
    "class AttrDict(dict):\n",
    "    __getattr__ = dict.__getitem__\n",
    "    __setattr__ = dict.__setitem__\n",
    "    __delattr__ = dict.__delitem__"
   ]
  },
  {
   "cell_type": "markdown",
   "id": "78e5d5be-efd5-46ca-8d4a-e922b8704b75",
   "metadata": {},
   "source": [
    "python segmentation.py train --dataset mfcad --dataset_path /home/egor/data/mfcad30 --max_epochs 5 --batch_size 256 --gpus 1 --num_processes 220 --experiment_name segmentation"
   ]
  },
  {
   "cell_type": "code",
   "execution_count": 6,
   "id": "e61fa45f-78d9-4788-9394-e42d095bf268",
   "metadata": {},
   "outputs": [],
   "source": [
    "args = AttrDict({})\n",
    "args.batch_size = 1\n",
    "# args.dataset_path = '/home/egor/data/machining_features_sprint_1/'\n",
    "args.dataset_path = '/home/egor/data/janush_dataset/converted_20/'\n",
    "\n",
    "#args.checkpoint = '/home/egor/UV-Net/results/seg_30sam_10ep/0329/054617/best.ckpt'\n",
    "args.checkpoint = '/home/egor/UV-Net/results/seg_new_data_20sam_20ep/0401/122015/best.ckpt'\n",
    "\n",
    "# args.checkpoint = '/home/egor/UV-Net/results/segmentation/0329/052330/best.ckpt'\n",
    "# args.checkpoint = '/home/egor/UV-Net/results/segmentation/0328/210148/best.ckpt'\n",
    "# args.checkpoint = '/home/egor/UV-Net/results/segmentation/0319/120241/best.ckpt'\n",
    "args.random_rotate = False\n",
    "args.num_workers = 30\n",
    "\n",
    "device = torch.device('cuda:2')"
   ]
  },
  {
   "cell_type": "code",
   "execution_count": 7,
   "id": "ea40fb02-d8de-4267-9608-a73a150a9a59",
   "metadata": {},
   "outputs": [
    {
     "name": "stderr",
     "output_type": "stream",
     "text": [
      "100%|██████████| 577/577 [00:00<00:00, 596.23it/s]\n"
     ]
    },
    {
     "name": "stdout",
     "output_type": "stream",
     "text": [
      "Done loading 577 files\n"
     ]
    }
   ],
   "source": [
    "Dataset = MFTestDataset\n",
    "test_data = Dataset(\n",
    "        root_dir=args.dataset_path, split=\"test\",  random_rotate=args.random_rotate\n",
    "    )\n",
    "\n",
    "test_loader = test_data.get_dataloader(\n",
    "        batch_size=1, shuffle=False, num_workers=1\n",
    "    )"
   ]
  },
  {
   "cell_type": "code",
   "execution_count": 8,
   "id": "497f31f0-23d0-4ff7-b904-83df9f31c6ef",
   "metadata": {},
   "outputs": [],
   "source": [
    "model = Segmentation.load_from_checkpoint(args.checkpoint).model.to(device = device)\n",
    "model = model.eval()"
   ]
  },
  {
   "cell_type": "code",
   "execution_count": 9,
   "id": "ce173619-869c-4899-9cc8-5289bc7ecfe0",
   "metadata": {
    "tags": []
   },
   "outputs": [],
   "source": [
    "def get_labels(model, dataset, device):\n",
    "    rez_list = []\n",
    "    with torch.no_grad():  \n",
    "        for data in dataset:\n",
    "            rz = dict()\n",
    "            rz['part'] = data[\"filename\"]\n",
    "            inputs = data[\"graph\"].to(device)\n",
    "            inputs.ndata[\"x\"] = inputs.ndata[\"x\"].permute(0, 3, 1, 2)\n",
    "            inputs.edata[\"x\"] = inputs.edata[\"x\"].permute(0, 2, 1)\n",
    "            \n",
    "            logits = model(inputs).to(device=torch.device('cpu'))\n",
    "            softmax = F.softmax(logits, dim=-1)  \n",
    "            \n",
    "            rz['labels'] = softmax.argmax(dim=1).numpy().tolist()\n",
    "            rez_list.append(rz)\n",
    "    return rez_list\n",
    "\n",
    "def get_labels_loader(model, loader, device):\n",
    "    rez_list = []\n",
    "    with torch.no_grad():  \n",
    "        for data in loader:\n",
    "            rz = dict()\n",
    "            rz['part'] = data[\"filename\"][0]\n",
    "            inputs = data[\"graph\"].to(device)\n",
    "            inputs.ndata[\"x\"] = inputs.ndata[\"x\"].permute(0, 3, 1, 2)\n",
    "            inputs.edata[\"x\"] = inputs.edata[\"x\"].permute(0, 2, 1)\n",
    "            \n",
    "            logits = model(inputs).to(device=torch.device('cpu'))\n",
    "            \n",
    "            softmax = F.softmax(logits, dim=-1)  \n",
    "            rz['labels'] = softmax.argmax(dim=1).numpy().tolist()\n",
    "            rez_list.append(rz)\n",
    "    return rez_list"
   ]
  },
  {
   "cell_type": "code",
   "execution_count": 10,
   "id": "5563db20-dfc6-4cbc-94a5-ef93b3ad6ca9",
   "metadata": {},
   "outputs": [],
   "source": [
    "rzz = get_labels(model, test_data, device)\n",
    "rzz_loader = get_labels_loader(model, test_loader, device)"
   ]
  },
  {
   "cell_type": "code",
   "execution_count": null,
   "id": "11a850ab-bb59-4b43-8ec0-b588e7ec8034",
   "metadata": {},
   "outputs": [],
   "source": [
    "rzz"
   ]
  },
  {
   "cell_type": "code",
   "execution_count": 26,
   "id": "0518d4b6-7c26-41e7-b614-9d8935629fa9",
   "metadata": {
    "tags": []
   },
   "outputs": [
    {
     "ename": "IndexError",
     "evalue": "list index out of range",
     "output_type": "error",
     "traceback": [
      "\u001b[0;31m---------------------------------------------------------------------------\u001b[0m",
      "\u001b[0;31mIndexError\u001b[0m                                Traceback (most recent call last)",
      "Cell \u001b[0;32mIn[26], line 1\u001b[0m\n\u001b[0;32m----> 1\u001b[0m \u001b[43mrzz\u001b[49m\u001b[43m[\u001b[49m\u001b[38;5;241;43m50\u001b[39;49m\u001b[43m]\u001b[49m[\u001b[38;5;124m'\u001b[39m\u001b[38;5;124mlabels\u001b[39m\u001b[38;5;124m'\u001b[39m][:\u001b[38;5;241m20\u001b[39m]\n",
      "\u001b[0;31mIndexError\u001b[0m: list index out of range"
     ]
    }
   ],
   "source": [
    "rzz[50]['labels'][:20]"
   ]
  },
  {
   "cell_type": "code",
   "execution_count": 27,
   "id": "e4d1663f-e13a-4b48-b47a-b6e0abb474c9",
   "metadata": {
    "tags": []
   },
   "outputs": [
    {
     "ename": "IndexError",
     "evalue": "list index out of range",
     "output_type": "error",
     "traceback": [
      "\u001b[0;31m---------------------------------------------------------------------------\u001b[0m",
      "\u001b[0;31mIndexError\u001b[0m                                Traceback (most recent call last)",
      "Cell \u001b[0;32mIn[27], line 1\u001b[0m\n\u001b[0;32m----> 1\u001b[0m \u001b[43mrzz_loader\u001b[49m\u001b[43m[\u001b[49m\u001b[38;5;241;43m50\u001b[39;49m\u001b[43m]\u001b[49m[\u001b[38;5;124m'\u001b[39m\u001b[38;5;124mlabels\u001b[39m\u001b[38;5;124m'\u001b[39m][:\u001b[38;5;241m20\u001b[39m]\n",
      "\u001b[0;31mIndexError\u001b[0m: list index out of range"
     ]
    }
   ],
   "source": [
    "rzz_loader[50]['labels'][:20]"
   ]
  },
  {
   "cell_type": "code",
   "execution_count": 45,
   "id": "d2030146-4b01-43b0-82b3-34ce00c9d6db",
   "metadata": {},
   "outputs": [],
   "source": [
    "with open('labels_10ep_model_20samples.json', 'w') as fp:\n",
    "    json.dump(rzz, fp)"
   ]
  },
  {
   "cell_type": "code",
   "execution_count": null,
   "id": "38ff2379-e5c4-48b8-8719-014a58b0f81e",
   "metadata": {},
   "outputs": [],
   "source": []
  },
  {
   "cell_type": "code",
   "execution_count": null,
   "id": "d412ec7a-1017-4b54-a5ab-1b39b6ec53ad",
   "metadata": {},
   "outputs": [],
   "source": []
  },
  {
   "cell_type": "code",
   "execution_count": 75,
   "id": "b54c3f32-20b5-49ed-b236-72f3eecf94f7",
   "metadata": {},
   "outputs": [
    {
     "data": {
      "text/plain": [
       "[5, 8, 9, 9, 14, 4, 15, 11, 15, 9, 15, 15, 6, 9, 11, 1, 10, 1, 12, 3]"
      ]
     },
     "execution_count": 75,
     "metadata": {},
     "output_type": "execute_result"
    }
   ],
   "source": [
    "rzz = get_labels(model, test_data, device)\n"
   ]
  },
  {
   "cell_type": "code",
   "execution_count": 76,
   "id": "6fac7300-cccd-4c59-ae8a-3820d4b2bfe7",
   "metadata": {},
   "outputs": [
    {
     "data": {
      "text/plain": [
       "[5, 7, 9, 4, 4, 9, 9, 9, 15, 9, 15, 15, 6, 9, 14, 1, 2, 12, 1, 2]"
      ]
     },
     "execution_count": 76,
     "metadata": {},
     "output_type": "execute_result"
    }
   ],
   "source": [
    "rzz_loader[0]['labels'][:20]"
   ]
  },
  {
   "cell_type": "code",
   "execution_count": 102,
   "id": "1f0511c9-1e8a-4ba6-a507-df7bada4c8bc",
   "metadata": {},
   "outputs": [],
   "source": [
    "rzz1 = get_labels(model, test_data, device)\n",
    "rzz2 = get_labels(model, test_data, device)"
   ]
  },
  {
   "cell_type": "code",
   "execution_count": 103,
   "id": "15b5edf0-5ce5-42f6-b86a-bb3919c34ddf",
   "metadata": {},
   "outputs": [
    {
     "data": {
      "text/plain": [
       "[13, 3, 3, 3, 3, 3, 3, 3, 13, 3, 3, 3, 3, 3, 3, 13, 13, 13, 13, 13]"
      ]
     },
     "execution_count": 103,
     "metadata": {},
     "output_type": "execute_result"
    }
   ],
   "source": [
    "rzz1[0]['labels'][:20]"
   ]
  },
  {
   "cell_type": "code",
   "execution_count": 104,
   "id": "848299de-8062-40a0-87a5-0bdc0d79eeb5",
   "metadata": {},
   "outputs": [
    {
     "data": {
      "text/plain": [
       "[13, 3, 3, 3, 3, 3, 3, 3, 13, 3, 3, 3, 3, 3, 3, 13, 13, 13, 13, 13]"
      ]
     },
     "execution_count": 104,
     "metadata": {},
     "output_type": "execute_result"
    }
   ],
   "source": [
    "rzz2[0]['labels'][:20]"
   ]
  },
  {
   "cell_type": "code",
   "execution_count": null,
   "id": "9d41ea78-9c1c-4fe8-845d-d9e7ee55a79a",
   "metadata": {},
   "outputs": [],
   "source": []
  },
  {
   "cell_type": "code",
   "execution_count": null,
   "id": "cd888a3f-0c9f-4d42-a1ea-2c5a207b0ca2",
   "metadata": {},
   "outputs": [],
   "source": [
    "path =pathlib.Path('/home/egor/mfcad/')\n",
    "with open(str(str(path.joinpath(\"split.json\"))), \"r\") as read_file:\n",
    "    filelist = json.load(read_file)"
   ]
  },
  {
   "cell_type": "code",
   "execution_count": null,
   "id": "ae8afcdb-4fa0-454f-a485-b34ad875aec6",
   "metadata": {},
   "outputs": [],
   "source": [
    "# Creating custom split file\n",
    "\n",
    "test_files = [x.split('.')[0] for x in os.listdir(args.dataset_path + 'graphs') if x.endswith('.bin')]\n",
    "split = {'test': test_files}\n",
    "\n",
    "with open(args.dataset_path+'split.json', 'w') as fp:\n",
    "    json.dump(split, fp)"
   ]
  },
  {
   "cell_type": "code",
   "execution_count": 3,
   "id": "7a5b5b90-9ff0-40ed-8214-7385db56dff2",
   "metadata": {},
   "outputs": [
    {
     "name": "stderr",
     "output_type": "stream",
     "text": [
      "  0%|          | 171/41730 [00:00<00:24, 1709.92it/s]"
     ]
    },
    {
     "name": "stdout",
     "output_type": "stream",
     "text": [
      "Loading train data...\n"
     ]
    },
    {
     "name": "stderr",
     "output_type": "stream",
     "text": [
      "100%|██████████| 41730/41730 [00:26<00:00, 1578.88it/s]\n"
     ]
    },
    {
     "name": "stdout",
     "output_type": "stream",
     "text": [
      "Done loading 41730 files\n"
     ]
    }
   ],
   "source": [
    "from datasets.mfcad_extended import MFCADPDataset\n",
    "\n",
    "d = MFCADPDataset(root_dir='/home/egor/data/MFCAD++_dataset/converted_20', split=\"train\")\n"
   ]
  },
  {
   "cell_type": "code",
   "execution_count": 9,
   "id": "a615d101-654d-483e-a5e7-de3c2c804858",
   "metadata": {},
   "outputs": [
    {
     "name": "stderr",
     "output_type": "stream",
     "text": [
      "  2%|▏         | 211/8942 [00:00<00:04, 2103.66it/s]"
     ]
    },
    {
     "name": "stdout",
     "output_type": "stream",
     "text": [
      "Loading test data...\n"
     ]
    },
    {
     "name": "stderr",
     "output_type": "stream",
     "text": [
      "100%|██████████| 8942/8942 [00:04<00:00, 1983.70it/s]\n"
     ]
    },
    {
     "name": "stdout",
     "output_type": "stream",
     "text": [
      "Done loading 8942 files\n"
     ]
    },
    {
     "name": "stderr",
     "output_type": "stream",
     "text": [
      "  2%|▏         | 207/8941 [00:00<00:04, 2066.69it/s]"
     ]
    },
    {
     "name": "stdout",
     "output_type": "stream",
     "text": [
      "Loading val data...\n"
     ]
    },
    {
     "name": "stderr",
     "output_type": "stream",
     "text": [
      "100%|██████████| 8941/8941 [00:04<00:00, 1838.01it/s]\n"
     ]
    },
    {
     "name": "stdout",
     "output_type": "stream",
     "text": [
      "Done loading 8941 files\n"
     ]
    }
   ],
   "source": [
    "test = MFCADPDataset(root_dir='/home/egor/data/MFCAD++_dataset/converted_20', split=\"test\")\n",
    "val =MFCADPDataset(root_dir='/home/egor/data/MFCAD++_dataset/converted_20', split=\"val\")"
   ]
  },
  {
   "cell_type": "code",
   "execution_count": 10,
   "id": "bb52c69d-2922-411d-9704-5299b0b7ab9b",
   "metadata": {},
   "outputs": [],
   "source": [
    "for f in [d, test, val]:\n",
    "    for i in f.data:\n",
    "        assert len(i['graph'].ndata['y']) > 0 and len(i['graph'].ndata['y']) == len(i['graph'])"
   ]
  },
  {
   "cell_type": "code",
   "execution_count": null,
   "id": "b1d64e4c-79af-4956-8d14-d9f0c002398f",
   "metadata": {},
   "outputs": [],
   "source": []
  }
 ],
 "metadata": {
  "kernelspec": {
   "display_name": "uv_net",
   "language": "python",
   "name": "uv_net"
  },
  "language_info": {
   "codemirror_mode": {
    "name": "ipython",
    "version": 3
   },
   "file_extension": ".py",
   "mimetype": "text/x-python",
   "name": "python",
   "nbconvert_exporter": "python",
   "pygments_lexer": "ipython3",
   "version": "3.9.16"
  }
 },
 "nbformat": 4,
 "nbformat_minor": 5
}
