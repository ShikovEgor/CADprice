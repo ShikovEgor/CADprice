{
 "cells": [
  {
   "cell_type": "code",
   "execution_count": 1,
   "id": "b7e7ecd0-0fda-4f91-adf9-54286ddf39d8",
   "metadata": {
    "tags": []
   },
   "outputs": [
    {
     "name": "stderr",
     "output_type": "stream",
     "text": [
      "Using backend: pytorch\n"
     ]
    }
   ],
   "source": [
    "import argparse\n",
    "import pathlib\n",
    "import time\n",
    "import os\n",
    "import sys\n",
    "module_path = os.path.abspath(os.path.join('..'))\n",
    "if module_path not in sys.path:\n",
    "    sys.path.append(module_path)\n",
    "\n",
    "import torch\n",
    "    \n",
    "from pytorch_lightning import Trainer\n",
    "from pytorch_lightning.callbacks import ModelCheckpoint\n",
    "from pytorch_lightning.loggers import TensorBoardLogger\n",
    "from pytorch_lightning.utilities.seed import seed_everything\n",
    "\n",
    "from datasets.fusiongallery import FusionGalleryDataset\n",
    "from datasets.mfcad import MFCADDataset\n",
    "from uvnet.models import Segmentation\n",
    "\n",
    "class AttrDict(dict):\n",
    "    __getattr__ = dict.__getitem__\n",
    "    __setattr__ = dict.__setitem__\n",
    "    __delattr__ = dict.__delitem__"
   ]
  },
  {
   "cell_type": "code",
   "execution_count": 2,
   "id": "e61fa45f-78d9-4788-9394-e42d095bf268",
   "metadata": {},
   "outputs": [],
   "source": [
    "args = AttrDict({})\n",
    "args.batch_size = 64\n",
    "args.dataset_path = '/home/egor/mfcad/'\n",
    "args.checkpoint = '../results/encoding/0311/130828/best.ckpt'\n",
    "args.random_rotate = False\n",
    "args.num_workers = 30\n",
    "\n",
    "device = torch.device('cuda:2')"
   ]
  },
  {
   "cell_type": "code",
   "execution_count": 4,
   "id": "4d4a2a87-3682-4e6a-8801-d90b3dd412b6",
   "metadata": {},
   "outputs": [],
   "source": [
    "model = Segmentation.load_from_checkpoint(args.checkpoint).model.to(device = device)"
   ]
  },
  {
   "cell_type": "code",
   "execution_count": 5,
   "id": "ea40fb02-d8de-4267-9608-a73a150a9a59",
   "metadata": {},
   "outputs": [
    {
     "name": "stderr",
     "output_type": "stream",
     "text": [
      "  9%|▉         | 293/3094 [00:00<00:00, 2925.84it/s]"
     ]
    },
    {
     "name": "stdout",
     "output_type": "stream",
     "text": [
      "Loading test data...\n"
     ]
    },
    {
     "name": "stderr",
     "output_type": "stream",
     "text": [
      "100%|██████████| 3094/3094 [00:01<00:00, 2825.22it/s]\n"
     ]
    },
    {
     "name": "stdout",
     "output_type": "stream",
     "text": [
      "Done loading 3094 files\n"
     ]
    }
   ],
   "source": [
    "Dataset = MFCADDataset\n",
    "test_data = Dataset(\n",
    "        root_dir=args.dataset_path, split=\"test\", random_rotate=args.random_rotate\n",
    "    )\n",
    "\n",
    "test_loader = test_data.get_dataloader(\n",
    "        batch_size=args.batch_size, shuffle=False, num_workers=args.num_workers\n",
    "    )"
   ]
  },
  {
   "cell_type": "code",
   "execution_count": 7,
   "id": "ce173619-869c-4899-9cc8-5289bc7ecfe0",
   "metadata": {
    "tags": []
   },
   "outputs": [],
   "source": [
    "def encode(model, loader, device):\n",
    "    embs_list = []\n",
    "    with torch.no_grad():  \n",
    "        for batch in loader:\n",
    "            inputs = batch[\"graph\"].to(device)\n",
    "            inputs.ndata[\"x\"] = inputs.ndata[\"x\"].permute(0, 3, 1, 2)\n",
    "            inputs.edata[\"x\"] = inputs.edata[\"x\"].permute(0, 2, 1)\n",
    "            embs_list.append(model.encode_part(inputs).to(device=torch.device('cpu')))\n",
    "    return embs_list"
   ]
  },
  {
   "cell_type": "code",
   "execution_count": 8,
   "id": "d85f2977-525b-44ef-8216-de64316d4a3d",
   "metadata": {},
   "outputs": [],
   "source": [
    "p_embs = torch.cat(\n",
    "    encode(model, test_loader, device),\n",
    "    dim=0)"
   ]
  },
  {
   "cell_type": "code",
   "execution_count": 9,
   "id": "45dce07a-0f9f-41c2-a59d-e616efdeec39",
   "metadata": {},
   "outputs": [
    {
     "data": {
      "text/plain": [
       "torch.Size([3072, 128])"
      ]
     },
     "execution_count": 9,
     "metadata": {},
     "output_type": "execute_result"
    }
   ],
   "source": [
    "p_embs.shape"
   ]
  },
  {
   "cell_type": "code",
   "execution_count": 11,
   "id": "7242fcfa-4d94-4c98-b8d8-bad042e23fc2",
   "metadata": {},
   "outputs": [],
   "source": [
    "torch.save(p_embs, '../embs/embs_0.pt')"
   ]
  },
  {
   "cell_type": "code",
   "execution_count": null,
   "id": "932173b7-f733-4a37-b6a5-633ad3a52061",
   "metadata": {},
   "outputs": [],
   "source": [
    "torch.load('embs_0.pt')"
   ]
  },
  {
   "cell_type": "code",
   "execution_count": null,
   "id": "1bdd151d-cb50-43a1-83b5-52f4ead6e7dc",
   "metadata": {},
   "outputs": [],
   "source": [
    "import json\n",
    "\n",
    "with open('part_names', 'w') as file:\n",
    "     file.write(json.dumps(p_names))"
   ]
  },
  {
   "cell_type": "code",
   "execution_count": null,
   "id": "d5165ed3-33e7-4d29-ae25-8b6423d69652",
   "metadata": {},
   "outputs": [],
   "source": []
  },
  {
   "cell_type": "code",
   "execution_count": null,
   "id": "5563db20-dfc6-4cbc-94a5-ef93b3ad6ca9",
   "metadata": {},
   "outputs": [],
   "source": []
  },
  {
   "cell_type": "code",
   "execution_count": null,
   "id": "ae8afcdb-4fa0-454f-a485-b34ad875aec6",
   "metadata": {},
   "outputs": [],
   "source": []
  }
 ],
 "metadata": {
  "kernelspec": {
   "display_name": "uv_net",
   "language": "python",
   "name": "uv_net"
  },
  "language_info": {
   "codemirror_mode": {
    "name": "ipython",
    "version": 3
   },
   "file_extension": ".py",
   "mimetype": "text/x-python",
   "name": "python",
   "nbconvert_exporter": "python",
   "pygments_lexer": "ipython3",
   "version": "3.9.16"
  }
 },
 "nbformat": 4,
 "nbformat_minor": 5
}
