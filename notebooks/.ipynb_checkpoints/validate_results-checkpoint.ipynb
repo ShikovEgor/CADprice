{
 "cells": [
  {
   "cell_type": "code",
   "execution_count": 2,
   "id": "528fb6c9-3203-4173-9ccd-9794e1a95d3b",
   "metadata": {
    "tags": []
   },
   "outputs": [
    {
     "name": "stderr",
     "output_type": "stream",
     "text": [
      "Using backend: pytorch\n"
     ]
    }
   ],
   "source": [
    "%load_ext autoreload\n",
    "%autoreload 2\n",
    "\n",
    "import os\n",
    "from tqdm import tqdm\n",
    "import json \n",
    "import argparse\n",
    "import pathlib\n",
    "import time\n",
    "import sys\n",
    "module_path = os.path.abspath(os.path.join('..'))\n",
    "if module_path not in sys.path:\n",
    "    sys.path.append(module_path)\n",
    "\n",
    "import torch\n",
    "import torch.nn.functional as F\n",
    "    \n",
    "from pytorch_lightning import Trainer\n",
    "from pytorch_lightning.callbacks import ModelCheckpoint\n",
    "from pytorch_lightning.loggers import TensorBoardLogger\n",
    "from pytorch_lightning.utilities.seed import seed_everything\n",
    "\n",
    "from datasets.fusiongallery import FusionGalleryDataset\n",
    "from datasets.mfcad import MFCADDataset\n",
    "from datasets.mftest import MFTestDataset\n",
    "\n",
    "from uvnet.models import Segmentation\n",
    "\n",
    "from occwl.compound import Compound \n",
    "from occwl.graph import face_adjacency\n",
    "from occwl.entity_mapper import EntityMapper\n",
    "from occwl.jupyter_viewer import JupyterViewer as Viewer\n",
    "from multiprocessing.pool import Pool\n",
    "import pandas as pd\n",
    "import numpy as np\n",
    "\n",
    "import matplotlib.pyplot as plt\n",
    "import signal\n",
    "def initializer():\n",
    "    \"\"\"Ignore CTRL+C in the worker process.\"\"\"\n",
    "    signal.signal(signal.SIGINT, signal.SIG_IGN)"
   ]
  },
  {
   "cell_type": "code",
   "execution_count": 4,
   "id": "4d64c479-3d63-47b2-933f-e4fc55befa57",
   "metadata": {
    "tags": []
   },
   "outputs": [],
   "source": [
    "class AttrDict(dict):\n",
    "    __getattr__ = dict.__getitem__\n",
    "    __setattr__ = dict.__setitem__\n",
    "    __delattr__ = dict.__delitem__\n",
    "\n",
    "\n",
    "def get_name_map():\n",
    "    name_mapping = {}\n",
    "    return pd.read_csv(\"../../data/MFCAD++_dataset/feature_labels.txt\", skiprows=6, header=None, sep=\" - \").set_index(0)[1].to_dict()\n",
    "\n",
    "def get_labels(model, dataset, device):\n",
    "    rez_list = []\n",
    "    with torch.no_grad():  \n",
    "        for data in dataset:\n",
    "            rz = dict()\n",
    "            rz['part'] = data[\"filename\"]\n",
    "            inputs = data[\"graph\"].to(device)\n",
    "            inputs.ndata[\"x\"] = inputs.ndata[\"x\"].permute(0, 3, 1, 2)\n",
    "            inputs.edata[\"x\"] = inputs.edata[\"x\"].permute(0, 2, 1)\n",
    "            \n",
    "            logits = model(inputs).to(device=torch.device('cpu'))\n",
    "            softmax = F.softmax(logits, dim=-1)  \n",
    "            \n",
    "            rz['labels'] = softmax.argmax(dim=1).numpy().tolist()\n",
    "            rez_list.append(rz)\n",
    "    return rez_list\n",
    "\n",
    "def get_labels_loader(model, loader, device):\n",
    "    rez_list = []\n",
    "    with torch.no_grad():  \n",
    "        for data in loader:\n",
    "            rz = dict()\n",
    "            rz['part'] = data[\"filename\"][0]\n",
    "            inputs = data[\"graph\"].to(device)\n",
    "            inputs.ndata[\"x\"] = inputs.ndata[\"x\"].permute(0, 3, 1, 2)\n",
    "            inputs.edata[\"x\"] = inputs.edata[\"x\"].permute(0, 2, 1)\n",
    "            \n",
    "            logits = model(inputs).to(device=torch.device('cpu'))\n",
    "            \n",
    "            softmax = F.softmax(logits, dim=-1)  \n",
    "            rz['labels'] = softmax.argmax(dim=1).numpy().tolist()\n",
    "            rez_list.append(rz)\n",
    "    return rez_list"
   ]
  },
  {
   "cell_type": "code",
   "execution_count": 5,
   "id": "948a6c7b-761d-4d1e-8140-e65eb080a17d",
   "metadata": {},
   "outputs": [
    {
     "name": "stderr",
     "output_type": "stream",
     "text": [
      "0it [00:00, ?it/s]"
     ]
    },
    {
     "name": "stdout",
     "output_type": "stream",
     "text": [
      "Done loading 0 files\n"
     ]
    },
    {
     "name": "stderr",
     "output_type": "stream",
     "text": [
      "\n",
      "/tmp/ipykernel_3982030/105790668.py:9: ParserWarning: Falling back to the 'python' engine because the 'c' engine does not support regex separators (separators > 1 char and different from '\\s+' are interpreted as regex); you can avoid this warning by specifying engine='python'.\n",
      "  return pd.read_csv(\"../../data/MFCAD++_dataset/feature_labels.txt\", skiprows=6, header=None, sep=\" - \").set_index(0)[1].to_dict()\n"
     ]
    }
   ],
   "source": [
    "args = AttrDict({})\n",
    "args.batch_size = 1\n",
    "args.random_rotate = False\n",
    "args.num_workers = 30\n",
    "# args.dataset_path = '/home/egor/data/machining_features_sprint_1/'\n",
    "# args.dataset_path = '/home/egor/data/mftest20/'\n",
    "args.dataset_path = '/home/egor/data/janush_dataset/converted_20/'\n",
    "# args.dataset_path = '/home/egor/data/janush_dataset/converted_10/'\n",
    "#args.checkpoint = '/home/egor/UV-Net/results/seg_30sam_10ep/0329/054617/best.ckpt'\n",
    "# args.dataset_path = '/home/egor/data/mftest20/'\n",
    "\n",
    "Dataset = MFTestDataset\n",
    "test_data = Dataset(\n",
    "        root_dir=args.dataset_path, split=\"test\",  random_rotate=args.random_rotate, \n",
    "    )\n",
    "name_map = get_name_map()"
   ]
  },
  {
   "cell_type": "code",
   "execution_count": null,
   "id": "243889fb-3ce3-46fb-b253-8878c63f2059",
   "metadata": {
    "tags": []
   },
   "outputs": [],
   "source": [
    "# args.checkpoint = '/home/egor/UV-Net/results/seg_20sam_10ep/0330/222624/best.ckpt'\n",
    "# args.checkpoint = '/home/egor/UV-Net/results/seg_new_data_20sam_20ep/0401/122015/best.ckpt'\n",
    "# args.checkpoint = '/home/egor/UV-Net/results/seg_new_data_20sam_10ep/0401/110240/best.ckpt'\n",
    "# args.checkpoint = '/home/egor/UV-Net/results/seg_new_d_base_conv_20sam_10ep/0401/154926/best.ckpt'\n",
    "#args.checkpoint = '/home/egor/UV-Net/results/seg_new_d_base_conv_10sam_10ep/0401/171130/best.ckpt'\n",
    "#args.checkpoint = '/home/egor/UV-Net/results/seg_new_d_base_conv_10sam_20ep/0401/173221/best.ckpt'\n",
    "args.checkpoint = '/home/egor/UV-Net/results/seg_new_d_base_conv_20sam_300ep/0402/021214/best.ckpt'\n",
    "# args.checkpoint = '/home/egor/UV-Net/results/seg_new_d_base_conv_10sam_100ep/0401/194713/best.ckpt'\n",
    "# args.checkpoint = '/home/egor/UV-Net/results/seg_20sam_20ep/0329/135533/best.ckpt'\n",
    "# args.checkpoint = '/home/egor/UV-Net/results/seg_30sam_30ep/0329/061738/best.ckpt'\n",
    "# args.checkpoint = '/home/egor/UV-Net/results/segmentation/0329/052330/best.ckpt'\n",
    "# args.checkpoint = '/home/egor/UV-Net/results/segmentation/0328/210148/best.ckpt'\n",
    "# args.checkpoint = '/home/egor/UV-Net/results/segmentation/0319/120241/best.ckpt'\n",
    "\n",
    "device = torch.device('cuda:1')\n",
    "\n",
    "model = Segmentation.load_from_checkpoint(args.checkpoint).model.to(device = device)\n",
    "model = model.eval()\n",
    "labels = get_labels(model, test_data, device)\n",
    "\n",
    "with open(\"../../data/janush_dataset/non_duplicated_filenames.json\", 'r') as f:\n",
    "    allowed = set(json.load(f))\n",
    "labels = {x['part']: x for x in labels if x['part'] in allowed}"
   ]
  },
  {
   "cell_type": "code",
   "execution_count": 45,
   "id": "0bd7ad21-01af-41bc-84bf-efa712c7ea11",
   "metadata": {},
   "outputs": [],
   "source": [
    "with open(\"../../test_labels/labels_seg_new_d_base_conv_20sam_300ep.json\", 'w') as f:\n",
    "    json.dump(labels, f)"
   ]
  },
  {
   "cell_type": "code",
   "execution_count": 28,
   "id": "75964a48-9e45-4668-ac50-fa2ac33d4d05",
   "metadata": {},
   "outputs": [
    {
     "data": {
      "text/plain": [
       "0.5139821000299528"
      ]
     },
     "execution_count": 28,
     "metadata": {},
     "output_type": "execute_result"
    }
   ],
   "source": [
    "from evaluation.jaccard import get_mf_jaccard\n",
    "\n",
    "jaccards = []\n",
    "for sample in test_data.data:\n",
    "    if sample['filename'] in labels:\n",
    "        jaccards.append(get_mf_jaccard(sample=sample, labels=labels[sample['filename']]['labels']))\n",
    "    \n",
    "np.mean(jaccards)"
   ]
  },
  {
   "cell_type": "code",
   "execution_count": null,
   "id": "b2add13a-7b7e-432c-882d-c9031a46dc28",
   "metadata": {},
   "outputs": [
    {
     "name": "stderr",
     "output_type": "stream",
     "text": [
      "100%|██████████| 469/469 [00:01<00:00, 256.13it/s]\n"
     ]
    }
   ],
   "source": [
    "prediced = {}\n",
    "for r in tqdm(results):\n",
    "    prediced.update(get_predicted_mf(r, graphs))"
   ]
  },
  {
   "cell_type": "code",
   "execution_count": null,
   "id": "7c2dbda2-55ca-4753-8f3b-7e372500dd9d",
   "metadata": {
    "tags": []
   },
   "outputs": [
    {
     "name": "stdout",
     "output_type": "stream",
     "text": [
      "0.6266269882709848\n"
     ]
    }
   ],
   "source": [
    "print(np.mean([x[0] for x in prediced.values()]))"
   ]
  },
  {
   "cell_type": "code",
   "execution_count": null,
   "id": "7054b53a-930b-48cc-b929-304b2b56fa09",
   "metadata": {},
   "outputs": [
    {
     "data": {
      "text/plain": [
       "(array([ 36.,  20., 116.,  25.,  10.,  10.,  20.,   8.,   8., 216.]),\n",
       " array([1.14795918e-04, 1.00103316e-01, 2.00091837e-01, 3.00080357e-01,\n",
       "        4.00068878e-01, 5.00057398e-01, 6.00045918e-01, 7.00034439e-01,\n",
       "        8.00022959e-01, 9.00011480e-01, 1.00000000e+00]),\n",
       " <BarContainer object of 10 artists>)"
      ]
     },
     "execution_count": 58,
     "metadata": {},
     "output_type": "execute_result"
    },
    {
     "data": {
      "image/png": "[encoded data removed]",
      "text/plain": [
       "<Figure size 640x480 with 1 Axes>"
      ]
     },
     "metadata": {},
     "output_type": "display_data"
    }
   ],
   "source": [
    "plt.hist([x[0] for x in prediced.values()])"
   ]
  },
  {
   "cell_type": "code",
   "execution_count": null,
   "id": "c481bea4-44e0-478f-895a-57e40b52a9ac",
   "metadata": {},
   "outputs": [],
   "source": [
    "'''\n",
    "## MFCAD ++\n",
    "10 sam 10 ep base enc 0.53\n",
    "10 sam 20 ep base enc 0.54\n",
    "20 sam 20 ep  0.50\n",
    "20 sam 10 ep  0.51\n",
    "20 sam 10 ep base enc 0.506\n",
    "\n",
    "'''"
   ]
  },
  {
   "cell_type": "code",
   "execution_count": null,
   "id": "a3ac5fe2-c14a-45f9-aa8c-32dba4e98e0a",
   "metadata": {},
   "outputs": [],
   "source": []
  },
  {
   "cell_type": "code",
   "execution_count": null,
   "id": "4789ff88-dc5e-4bfc-8539-1442258ba63e",
   "metadata": {},
   "outputs": [],
   "source": []
  },
  {
   "cell_type": "code",
   "execution_count": null,
   "id": "2b634802-a89f-497a-b139-55e93326563b",
   "metadata": {},
   "outputs": [],
   "source": [
    "'''\n",
    "## MFCAD\n",
    "30 sam 10 ep     0.44\n",
    "30 sam 30 ep     0.38\n",
    "20 sam 10 ep     0.50\n",
    "20 sam 20 ep     0.43\n",
    "30 sam 10 ep_new_encoder     0.38\n",
    "30 sam 10 ep_new_encoder2     0.34\n",
    "30 sam 10 ep  max     0.47\n",
    "30 sam 10 ep  max_64_128     0.41\n",
    "30 sam 10 ep  max_128_256 4 layers     0.35\n",
    "30 sam 5 ep  max     0.47\n",
    "30 sam 5 ep  max     0.47\n",
    "20 sam 10 ep max 0.42\n",
    "20 sam 20 ep max 0.39\n",
    "20 sam 5 ep max 0.40\n",
    "30 sam 5 ep  max no_curve   0.40\n",
    "20 sam 5 ep  max 0.45\n",
    "20 sam 10 ep  max 0.39\n",
    "\n",
    "\n",
    "'''"
   ]
  },
  {
   "cell_type": "code",
   "execution_count": 68,
   "id": "994d1596-38e4-4830-b5a7-5ed46b1d86c3",
   "metadata": {
    "tags": []
   },
   "outputs": [
    {
     "name": "stdout",
     "output_type": "stream",
     "text": [
      "0.39205873523918544\n"
     ]
    }
   ],
   "source": [
    "print(np.mean([x[0] for x in prediced.values()]))"
   ]
  },
  {
   "cell_type": "code",
   "execution_count": 42,
   "id": "d1a156d2-a754-48d9-886d-958e0e135d74",
   "metadata": {},
   "outputs": [],
   "source": [
    "def plot_truth(res):\n",
    "    v = Viewer()\n",
    "    v.display_face_colormap(res['shape'], res['truth'])\n",
    "    v.show()\n",
    "\n",
    "def plot_labels(res):\n",
    "    print(f\"prediction for {res['part']}\")\n",
    "    all_feats = []                       \n",
    "    for i, feature in enumerate(res['mechanical_features']):\n",
    "        print(f\"Feature {i}:\")\n",
    "        counter = []\n",
    "        for face in feature:\n",
    "            counter.append(name_map[res['predict'][face]])\n",
    "        print(pd.Series(counter).value_counts())\n",
    "        all_feats.extend(counter)\n",
    "        print(\"total\")\n",
    "    print(pd.Series(all_feats).value_counts())\n",
    "    v = Viewer()\n",
    "    \n",
    "    v.display_face_colormap(res['shape'], res['predict'])\n",
    "    v.show()"
   ]
  },
  {
   "cell_type": "code",
   "execution_count": 46,
   "id": "11115725-7cb9-45ba-9b30-c565a1a7d6ca",
   "metadata": {},
   "outputs": [
    {
     "data": {
      "image/png": "[encoded data removed]",
      "text/plain": [
       "<Figure size 640x480 with 1 Axes>"
      ]
     },
     "metadata": {},
     "output_type": "display_data"
    },
    {
     "data": {
      "application/vnd.jupyter.widget-view+json": {
       "model_id": "2aaa36b0845047f7a5efecaea1de530d",
       "version_major": 2,
       "version_minor": 0
      },
      "text/plain": [
       "HBox(children=(VBox(children=(HBox(children=(Checkbox(value=True, description='Axes', layout=Layout(height='au…"
      ]
     },
     "metadata": {},
     "output_type": "display_data"
    }
   ],
   "source": [
    "plot_truth(results[0])"
   ]
  },
  {
   "cell_type": "code",
   "execution_count": null,
   "id": "5a2d3f90-84ff-414a-b860-3653cfc469cb",
   "metadata": {},
   "outputs": [],
   "source": []
  }
 ],
 "metadata": {
  "kernelspec": {
   "display_name": "uv_net",
   "language": "python",
   "name": "uv_net"
  },
  "language_info": {
   "codemirror_mode": {
    "name": "ipython",
    "version": 3
   },
   "file_extension": ".py",
   "mimetype": "text/x-python",
   "name": "python",
   "nbconvert_exporter": "python",
   "pygments_lexer": "ipython3",
   "version": "3.9.16"
  }
 },
 "nbformat": 4,
 "nbformat_minor": 5
}
