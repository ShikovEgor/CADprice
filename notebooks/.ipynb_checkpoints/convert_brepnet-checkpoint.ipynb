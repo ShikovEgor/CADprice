{
 "cells": [
  {
   "cell_type": "code",
   "execution_count": 1,
   "id": "9908c504-f49b-47d9-ab37-76fd09d34f3b",
   "metadata": {
    "tags": []
   },
   "outputs": [
    {
     "name": "stderr",
     "output_type": "stream",
     "text": [
      "Using backend: pytorch\n"
     ]
    }
   ],
   "source": [
    "import argparse\n",
    "import pathlib\n",
    "import json\n",
    "import dgl\n",
    "import numpy as np\n",
    "import torch\n",
    "from occwl.graph import face_adjacency\n",
    "from occwl.compound import Compound\n",
    "from occwl.uvgrid import ugrid, uvgrid\n",
    "from tqdm import tqdm\n",
    "from multiprocessing.pool import Pool\n",
    "from itertools import repeat\n",
    "import signal\n",
    "def initializer():\n",
    "    \"\"\"Ignore CTRL+C in the worker process.\"\"\"\n",
    "    signal.signal(signal.SIGINT, signal.SIG_IGN)\n",
    "\n",
    "def build_graph(solid, curv_num_u_samples, surf_num_u_samples, surf_num_v_samples):\n",
    "    # Build face adjacency graph with B-rep entities as node and edge features\n",
    "    graph = face_adjacency(solid)\n",
    "\n",
    "    # Compute the UV-grids for faces\n",
    "    graph_face_feat = []\n",
    "    for face_idx in graph.nodes:\n",
    "        # Get the B-rep face\n",
    "        face = graph.nodes[face_idx][\"face\"]\n",
    "        # Compute UV-grids\n",
    "        points = uvgrid(\n",
    "            face, method=\"point\", num_u=surf_num_u_samples, num_v=surf_num_v_samples\n",
    "        )\n",
    "        # print(points)\n",
    "        normals = uvgrid(\n",
    "            face, method=\"normal\", num_u=surf_num_u_samples, num_v=surf_num_v_samples\n",
    "        )\n",
    "        visibility_status = uvgrid(\n",
    "            face, method=\"visibility_status\", num_u=surf_num_u_samples, num_v=surf_num_v_samples\n",
    "        )\n",
    "        mask = np.logical_or(visibility_status == 0, visibility_status == 2)  # 0: Inside, 1: Outside, 2: On boundary\n",
    "        # Concatenate channel-wise to form face feature tensor\n",
    "        face_feat = np.concatenate((points, normals, mask), axis=-1)\n",
    "        graph_face_feat.append(face_feat)\n",
    "    graph_face_feat = np.asarray(graph_face_feat)\n",
    "\n",
    "    # Compute the U-grids for edges\n",
    "    graph_edge_feat = []\n",
    "    for edge_idx in graph.edges:\n",
    "        # Get the B-rep edge\n",
    "        edge = graph.edges[edge_idx][\"edge\"]\n",
    "        # Ignore dgenerate edges, e.g. at apex of cone\n",
    "        if not edge.has_curve():\n",
    "            continue\n",
    "        # Compute U-grids\n",
    "        points = ugrid(edge, method=\"point\", num_u=curv_num_u_samples)\n",
    "        tangents = ugrid(edge, method=\"tangent\", num_u=curv_num_u_samples)\n",
    "        # Concatenate channel-wise to form edge feature tensor\n",
    "        edge_feat = np.concatenate((points, tangents), axis=-1)\n",
    "        graph_edge_feat.append(edge_feat)\n",
    "    graph_edge_feat = np.asarray(graph_edge_feat)\n",
    "\n",
    "    # Convert face-adj graph to DGL format\n",
    "    edges = list(graph.edges)\n",
    "    src = [e[0] for e in edges]\n",
    "    dst = [e[1] for e in edges]\n",
    "    dgl_graph = dgl.graph((src, dst), num_nodes=len(graph.nodes))\n",
    "    dgl_graph.ndata[\"x\"] = torch.from_numpy(graph_face_feat)\n",
    "    dgl_graph.edata[\"x\"] = torch.from_numpy(graph_edge_feat)\n",
    "    return dgl_graph\n",
    "\n",
    "\n",
    "def process_one_file(arguments):\n",
    "    try:\n",
    "        fn, args = arguments\n",
    "        fn_stem = fn.stem\n",
    "        output_path = pathlib.Path(args.output)\n",
    "        solid, mapping = Compound.load_step_with_attributes(fn)\n",
    "        #solid = solid[0]\n",
    "        if args.convert_labels:\n",
    "            labels = [int(mapping[face]['name']) for face in solid.faces() if face in mapping]\n",
    "            with open(str(output_path)+\"_labels/\"+fn_stem+\".json\", 'w') as f:\n",
    "                json.dump(labels, f)\n",
    "        graph = build_graph(\n",
    "            solid, args.curv_u_samples, args.surf_u_samples, args.surf_v_samples\n",
    "        )\n",
    "        dgl.data.utils.save_graphs(str(output_path.joinpath(fn_stem + \".bin\")), [graph]) #_color\n",
    "    except Exception as e:\n",
    "        print(e)\n",
    "\n",
    "\n",
    "def initializer():\n",
    "    \"\"\"Ignore CTRL+C in the worker process.\"\"\"\n",
    "    signal.signal(signal.SIGINT, signal.SIG_IGN)\n",
    "\n",
    "\n",
    "def process(args):\n",
    "    input_path = pathlib.Path(args.input)\n",
    "    output_path = pathlib.Path(args.output)\n",
    "    if not output_path.exists():\n",
    "        output_path.mkdir(parents=True, exist_ok=True)\n",
    "    step_files = list(input_path.glob(\"*.st*p\"))\n",
    "    # for fn in tqdm(step_files):\n",
    "    #     process_one_file(fn, args)\n",
    "    pool = Pool(processes=50, initializer=initializer)\n",
    "    try:\n",
    "        results = list(tqdm(pool.imap(process_one_file, zip(step_files, repeat(args))), total=len(step_files)))\n",
    "    except KeyboardInterrupt:\n",
    "        pool.terminate()\n",
    "        pool.join()\n",
    "    print(f\"Processed {len(results)} files.\")"
   ]
  },
  {
   "cell_type": "code",
   "execution_count": null,
   "id": "b1f3a6a9-e2bc-4a2b-b1cb-8aa95e12ae22",
   "metadata": {},
   "outputs": [],
   "source": []
  },
  {
   "cell_type": "code",
   "execution_count": null,
   "id": "898ce97c-5a67-44ee-8773-03a41ded34c8",
   "metadata": {
    "tags": []
   },
   "outputs": [],
   "source": [
    "# path_data_raw = \"../../data/machining_features_sprint_1/raw\"\n",
    "# path_data = \"../../data/machining_features_sprint_1/graphs_20/\"\n",
    "\n",
    "# path_data_raw = \"../../MFCAD/dataset/step\"\n",
    "# path_data = \"/home/egor/data/mfcad30/graph/\"\n",
    "\n",
    "path_data_raw = \"../../data/janush_dataset/raw\"\n",
    "path_data = \"/home/egor/data/janush_dataset/tst/\"\n",
    "nsamples = 10\n",
    "args = argparse.Namespace(input=path_data_raw, output=path_data, convert_labels=False,\n",
    "                          curv_u_samples=nsamples, surf_u_samples=nsamples, surf_v_samples=nsamples, num_processes=50)\n",
    "\n",
    "input_path = pathlib.Path(args.input)\n",
    "output_path = pathlib.Path(args.output)\n",
    "if not output_path.exists():\n",
    "    output_path.mkdir(parents=True, exist_ok=True)\n",
    "step_files = list(input_path.glob(\"*.st*p\"))\n",
    "pool = Pool(processes=50, initializer=initializer)\n",
    "try:\n",
    "    results = list(tqdm(pool.imap(process_one_file, zip(step_files, repeat(args))), total=len(step_files)))\n",
    "except KeyboardInterrupt:\n",
    "    pool.terminate()\n",
    "    pool.join()"
   ]
  },
  {
   "cell_type": "code",
   "execution_count": 3,
   "id": "b0288eb3-329a-4fdb-a8b1-801b1d155991",
   "metadata": {
    "tags": []
   },
   "outputs": [
    {
     "name": "stderr",
     "output_type": "stream",
     "text": [
      "100%|██████████| 1/1 [00:00<00:00,  3.29it/s]\n"
     ]
    }
   ],
   "source": [
    "\n",
    "# for split in [\"train\", \"test\", \"val\"]:\n",
    "split = 'tmp'\n",
    "path_data_raw = f\"../../data/MFCAD++_dataset/tmp_raw\"\n",
    "path_data = f\"../../data/MFCAD++_dataset/tmp\"\n",
    "nsamples = 10\n",
    "args = argparse.Namespace(input=path_data_raw, output=path_data, convert_labels=True,\n",
    "                          curv_u_samples=nsamples, surf_u_samples=nsamples, surf_v_samples=nsamples, num_processes=50)\n",
    "\n",
    "input_path = pathlib.Path(args.input)\n",
    "output_path = pathlib.Path(args.output)\n",
    "labels_path = pathlib.Path(args.output+\"_labels\")\n",
    "\n",
    "if not output_path.exists():\n",
    "    output_path.mkdir(parents=True, exist_ok=True)\n",
    "if not labels_path.exists():\n",
    "    labels_path.mkdir(parents=True, exist_ok=True)\n",
    "\n",
    "step_files = list(input_path.glob(\"*.st*p\"))\n",
    "pool = Pool(processes=100, initializer=initializer)\n",
    "try:\n",
    "    results = list(tqdm(pool.imap(process_one_file, zip(step_files, repeat(args))), total=len(step_files)))\n",
    "except KeyboardInterrupt:\n",
    "    pool.terminate()\n",
    "    pool.join()"
   ]
  },
  {
   "cell_type": "code",
   "execution_count": 6,
   "id": "9dee34ea-4b9b-4cb5-bd97-88f3dc7b9445",
   "metadata": {
    "tags": []
   },
   "outputs": [],
   "source": [
    "import json\n",
    "import os"
   ]
  },
  {
   "cell_type": "code",
   "execution_count": 19,
   "id": "5fb590fc-5d81-4cde-bcc2-378cc73624b3",
   "metadata": {
    "tags": []
   },
   "outputs": [],
   "source": [
    "path_write = f\"/home/egor/data/MFCAD++_dataset/brepnet/seg/\"\n",
    "for split in [\"train\", \"test\", \"val\"]:\n",
    "    path = f\"/home/egor/data/MFCAD++_dataset/converted_10/{split}_labels/\"\n",
    "    for fnm in os.listdir(path):\n",
    "        with open(path+fnm, 'r') as f_read:\n",
    "            data = json.load(f_read)\n",
    "        with open(path_write +fnm.split('.')[0]+ '.seg', 'w') as f_write:\n",
    "            for x in data:\n",
    "                f_write.write(str(x)+ os.linesep)"
   ]
  },
  {
   "cell_type": "code",
   "execution_count": null,
   "id": "83c1f6d2-5c04-4b50-ba81-473e1b1fd265",
   "metadata": {},
   "outputs": [],
   "source": []
  },
  {
   "cell_type": "code",
   "execution_count": null,
   "id": "b189dade-700d-4f34-9722-6741112ba9e2",
   "metadata": {},
   "outputs": [],
   "source": []
  },
  {
   "cell_type": "code",
   "execution_count": null,
   "id": "67199bf5-a7c6-4356-93c0-27c2c17d5b48",
   "metadata": {},
   "outputs": [],
   "source": []
  }
 ],
 "metadata": {
  "kernelspec": {
   "display_name": "uv_net",
   "language": "python",
   "name": "uv_net"
  },
  "language_info": {
   "codemirror_mode": {
    "name": "ipython",
    "version": 3
   },
   "file_extension": ".py",
   "mimetype": "text/x-python",
   "name": "python",
   "nbconvert_exporter": "python",
   "pygments_lexer": "ipython3",
   "version": "3.9.16"
  }
 },
 "nbformat": 4,
 "nbformat_minor": 5
}
