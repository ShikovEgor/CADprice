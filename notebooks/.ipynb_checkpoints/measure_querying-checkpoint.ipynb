{
 "cells": [
  {
   "cell_type": "code",
   "execution_count": 15,
   "id": "c4a74c4e-25a9-4faa-a9b7-79e96c0bada1",
   "metadata": {
    "tags": []
   },
   "outputs": [
    {
     "name": "stdout",
     "output_type": "stream",
     "text": [
      "The autoreload extension is already loaded. To reload it, use:\n",
      "  %reload_ext autoreload\n"
     ]
    }
   ],
   "source": [
    "%load_ext autoreload\n",
    "%autoreload 2\n",
    "\n",
    "import numpy as np\n",
    "import pandas as pd\n",
    "\n",
    "import pathlib\n",
    "import string\n",
    "import os\n",
    "import sys\n",
    "module_path = os.path.abspath(os.path.join('..'))\n",
    "if module_path not in sys.path:\n",
    "    sys.path.append(module_path)\n",
    "    \n",
    "\n",
    "import torch\n",
    "\n",
    "from sklearn.model_selection import train_test_split\n",
    "from sklearn.neighbors import KDTree\n",
    "\n",
    "from datasets.base import BaseDataset\n",
    "from uvnet.models import Segmentation\n",
    "\n",
    "\n",
    "class AttrDict(dict):\n",
    "    __getattr__ = dict.__getitem__\n",
    "    __setattr__ = dict.__setitem__\n",
    "    __delattr__ = dict.__delitem__"
   ]
  },
  {
   "cell_type": "code",
   "execution_count": 55,
   "id": "83212ff1-1cb2-4bc8-8eee-91efd4951240",
   "metadata": {},
   "outputs": [],
   "source": [
    "def sample_from_letter(fnm_list, n_items, case = None):\n",
    "    #case: ('lower','upper')\n",
    "    df = pd.DataFrame()\n",
    "    df['fname'] = [fnm.split('.')[0] for fnm in fnm_list]\n",
    "    spl = df.fname.str.split('_')\n",
    "    df['letter'] = spl.apply(lambda x: x[0])\n",
    "    df['case'] = spl.apply(lambda x: x[-1])\n",
    "    df['class'] = df['letter']+df['case']\n",
    "    df['class'] = pd.Categorical(df['class'])\n",
    "    df['label'] = df['class'].cat.codes    \n",
    "\n",
    "    n_classes = df['class'].nunique()\n",
    "    \n",
    "    if case is not None:\n",
    "        df = df[df.case == case]\n",
    "    samples = df.groupby('label').apply(lambda x: x.sample(n_items))\n",
    "    fnm_labels = samples[['fname','label']].set_index('fname').label.to_dict()\n",
    "    return n_classes, fnm_labels\n",
    "\n",
    "class RankingDataset(BaseDataset):\n",
    "    @staticmethod\n",
    "    def num_classes():\n",
    "        return self.num_classes\n",
    "\n",
    "    def __init__(\n",
    "        self,\n",
    "        root_dir,\n",
    "        fnm_labels,\n",
    "        num_classes,\n",
    "        center_and_scale=True,\n",
    "        random_rotate=False,\n",
    "    ):\n",
    "        \"\"\"\n",
    "        Args:\n",
    "            center_and_scale (bool, optional): Whether to center and scale the solid. Defaults to True.\n",
    "            random_rotate (bool, optional): Whether to apply random rotations to the solid in 90 degree increments. Defaults to False.\n",
    "        \"\"\"\n",
    "        # path = pathlib.Path(root_dir)\n",
    "        self.random_rotate = random_rotate\n",
    "        self.num_classes = num_classes\n",
    "        \n",
    "        self.lbs = fnm_labels\n",
    "\n",
    "        file_paths = [pathlib.Path(root_dir+fnm+'.bin') for fnm in fnm_labels.keys()]\n",
    "        print(file_paths[0], file_paths[0].exists())\n",
    "        self.load_graphs(file_paths, center_and_scale)\n",
    "        print(\"Done loading {} files\".format(len(self.data)))\n",
    "\n",
    "    def load_one_graph(self, file_path):\n",
    "        # Load the graph using base class method\n",
    "        sample = super().load_one_graph(file_path)\n",
    "        # Additionally get the label from the filename and store it in the sample dict\n",
    "\n",
    "        sample[\"label\"] = torch.tensor([self.lbs[str(file_path.stem)]]).long()\n",
    "        return sample\n",
    "\n",
    "    def _collate(self, batch):\n",
    "        collated = super()._collate(batch)\n",
    "        collated[\"label\"] =  torch.cat([x[\"label\"] for x in batch], dim=0)\n",
    "        return collated\n",
    "    \n",
    "def encode(model, loader, device):\n",
    "    embs_list = []\n",
    "    labels_list = []\n",
    "    with torch.no_grad():  \n",
    "        for batch in loader:\n",
    "            inputs = batch[\"graph\"].to(device)\n",
    "            inputs.ndata[\"x\"] = inputs.ndata[\"x\"].permute(0, 3, 1, 2)\n",
    "            inputs.edata[\"x\"] = inputs.edata[\"x\"].permute(0, 2, 1)\n",
    "            embs_list.append(model.encode_part(inputs).to(device=torch.device('cpu')))\n",
    "                        \n",
    "            labels_list.append(batch[\"label\"].to(device=torch.device('cpu')))\n",
    "    return embs_list, labels_list\n",
    "\n",
    "def cals_map_all(test_loaders, model, device):\n",
    "    model = model.eval()\n",
    "    metr = []\n",
    "    for loader in test_loaders:\n",
    "        e_list, l_list = encode(model, loader, device)\n",
    "        embs = torch.cat(e_list,dim=0).numpy()\n",
    "        lbs = torch.cat(l_list,dim=0).numpy()\n",
    "        metr.append(calc_map(embs, lbs))\n",
    "    return np.mean(metr)\n",
    "\n",
    "def calc_map(X, labels, K = 5):\n",
    "    tree = KDTree(X, leaf_size=40)  # creating kd tree\n",
    "    _, ind = tree.query(X, k=K+1)  # quering nearest items\n",
    "\n",
    "    is_valid_label = (labels[ind[:,1:]] == labels.reshape(-1,1)).astype(int)\n",
    "\n",
    "    cum_sum = np.cumsum(is_valid_label, axis=1)\n",
    "    P_K = cum_sum/np.arange(1, K+1).reshape(1,-1)\n",
    "    AP_K = P_K.sum(axis=1) / np.clip(cum_sum[:,-1],1, K)\n",
    "\n",
    "    return AP_K.mean()"
   ]
  },
  {
   "cell_type": "code",
   "execution_count": 56,
   "id": "cbf129e6-61eb-466b-a0b4-15a4b7be81b4",
   "metadata": {
    "tags": []
   },
   "outputs": [],
   "source": [
    "args = AttrDict({})\n",
    "args.batch_size = 128\n",
    "args.random_rotate = False\n",
    "args.num_workers = 150\n",
    "args.checkpoint = '/home/egor/UV-Net/results/seg_new_d_base_conv_20sam_300ep/0402/021214/best.ckpt'\n",
    "device = torch.device('cuda:2')\n",
    "\n",
    "model = Segmentation.load_from_checkpoint(args.checkpoint).model.to(device = device)"
   ]
  },
  {
   "cell_type": "code",
   "execution_count": 57,
   "id": "16fd0efc-cdea-41ec-8be7-4489feee1fdc",
   "metadata": {
    "tags": []
   },
   "outputs": [
    {
     "name": "stderr",
     "output_type": "stream",
     "text": [
      "  0%|          | 0/2600 [00:00<?, ?it/s]"
     ]
    },
    {
     "name": "stdout",
     "output_type": "stream",
     "text": [
      "/home/egor/data/SolidLetters/graph_with_eattr/a_Srisakdi_lower.bin True\n"
     ]
    },
    {
     "name": "stderr",
     "output_type": "stream",
     "text": [
      "/home/egor/miniconda3/envs/uv_net/lib/python3.9/site-packages/dgl/base.py:45: DGLWarning: You are loading a graph file saved by old version of dgl.              Please consider saving it again with the current format.\n",
      "  return warnings.warn(message, category=category, stacklevel=1)\n",
      "100%|██████████| 2600/2600 [00:01<00:00, 2480.27it/s]\n"
     ]
    },
    {
     "name": "stdout",
     "output_type": "stream",
     "text": [
      "Done loading 2600 files\n"
     ]
    },
    {
     "name": "stderr",
     "output_type": "stream",
     "text": [
      "  0%|          | 0/2600 [00:00<?, ?it/s]/home/egor/miniconda3/envs/uv_net/lib/python3.9/site-packages/dgl/base.py:45: DGLWarning: You are loading a graph file saved by old version of dgl.              Please consider saving it again with the current format.\n",
      "  return warnings.warn(message, category=category, stacklevel=1)\n",
      " 13%|█▎        | 339/2600 [00:00<00:00, 3386.04it/s]"
     ]
    },
    {
     "name": "stdout",
     "output_type": "stream",
     "text": [
      "/home/egor/data/SolidLetters/graph_with_eattr/a_Gupter Medium_upper.bin True\n"
     ]
    },
    {
     "name": "stderr",
     "output_type": "stream",
     "text": [
      "100%|██████████| 2600/2600 [00:00<00:00, 3505.09it/s]\n"
     ]
    },
    {
     "name": "stdout",
     "output_type": "stream",
     "text": [
      "Done loading 2600 files\n"
     ]
    }
   ],
   "source": [
    "fnm_list = os.listdir('/home/egor/data/SolidLetters/graph_with_eattr')\n",
    "N_ITEMS_PER_CLASS = 100\n",
    "\n",
    "# creating loaders for SolidLetters dataset quering\n",
    "test_loaders = []\n",
    "for case in ('lower', 'upper'):\n",
    "    ncl, fnm_labels = sample_from_letter(fnm_list, N_ITEMS_PER_CLASS, case)\n",
    "    dset = RankingDataset('/home/egor/data/SolidLetters/graph_with_eattr/', \n",
    "                           fnm_labels, \n",
    "                           n_classes)\n",
    "    test_loaders.append(dset.get_dataloader(batch_size=args.batch_size, shuffle=False, num_workers=args.num_workers))"
   ]
  },
  {
   "cell_type": "code",
   "execution_count": 31,
   "id": "b5df48b4-75dd-4750-a300-eeee8a700cba",
   "metadata": {
    "tags": []
   },
   "outputs": [],
   "source": []
  },
  {
   "cell_type": "code",
   "execution_count": 58,
   "id": "7f9c756c-7bad-4322-81d1-7d26452213eb",
   "metadata": {},
   "outputs": [
    {
     "data": {
      "text/plain": [
       "0.7707337782118056"
      ]
     },
     "execution_count": 58,
     "metadata": {},
     "output_type": "execute_result"
    }
   ],
   "source": [
    "# calculating metric\n",
    "cals_map_all(test_loaders, model, device)"
   ]
  },
  {
   "cell_type": "code",
   "execution_count": null,
   "id": "855a75a1-2153-488c-a9f5-b84a87bb596b",
   "metadata": {},
   "outputs": [],
   "source": []
  },
  {
   "cell_type": "code",
   "execution_count": null,
   "id": "adeaae9e-ab5e-4421-9e82-5b71afddf956",
   "metadata": {},
   "outputs": [],
   "source": []
  },
  {
   "cell_type": "code",
   "execution_count": null,
   "id": "eb28d2f3-730b-4f41-a138-512dbed48c7e",
   "metadata": {},
   "outputs": [],
   "source": []
  },
  {
   "cell_type": "code",
   "execution_count": null,
   "id": "849fdc6d-da14-410a-83c3-1ca49291c51c",
   "metadata": {},
   "outputs": [],
   "source": []
  },
  {
   "cell_type": "code",
   "execution_count": 64,
   "id": "e7708ec6-ccb9-4b8c-b62f-583e4e21ff56",
   "metadata": {
    "tags": []
   },
   "outputs": [
    {
     "name": "stdout",
     "output_type": "stream",
     "text": [
      "23.9 ms ± 50 µs per loop (mean ± std. dev. of 7 runs, 10 loops each)\n"
     ]
    }
   ],
   "source": [
    "%%timeit\n",
    "calc_map(X, labels)"
   ]
  },
  {
   "cell_type": "code",
   "execution_count": 68,
   "id": "d631165a-6ddc-4844-92db-f675e16b1262",
   "metadata": {
    "tags": []
   },
   "outputs": [
    {
     "name": "stdout",
     "output_type": "stream",
     "text": [
      "17.5 ms ± 10.4 µs per loop (mean ± std. dev. of 7 runs, 100 loops each)\n"
     ]
    }
   ],
   "source": [
    "%%timeit\n",
    "calc_map(X, labels)"
   ]
  },
  {
   "cell_type": "code",
   "execution_count": null,
   "id": "b137c1da-3944-4667-a2f4-a9be17053fa9",
   "metadata": {},
   "outputs": [],
   "source": []
  }
 ],
 "metadata": {
  "kernelspec": {
   "display_name": "uv_net",
   "language": "python",
   "name": "uv_net"
  },
  "language_info": {
   "codemirror_mode": {
    "name": "ipython",
    "version": 3
   },
   "file_extension": ".py",
   "mimetype": "text/x-python",
   "name": "python",
   "nbconvert_exporter": "python",
   "pygments_lexer": "ipython3",
   "version": "3.9.16"
  }
 },
 "nbformat": 4,
 "nbformat_minor": 5
}
