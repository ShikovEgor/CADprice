{
 "cells": [
  {
   "cell_type": "code",
   "execution_count": 2,
   "id": "de70d8a0-3682-4eeb-87c7-3fc50545d159",
   "metadata": {
    "tags": []
   },
   "outputs": [],
   "source": [
    "import os\n",
    "from tqdm import tqdm\n",
    "import json \n",
    "from occwl.compound import Compound \n",
    "from occwl.graph import face_adjacency\n",
    "from occwl.entity_mapper import EntityMapper\n",
    "from occwl.jupyter_viewer import JupyterViewer as Viewer\n",
    "from multiprocessing.pool import Pool\n",
    "import pandas as pd\n",
    "import matplotlib.pyplot as plt\n",
    "import signal\n",
    "def initializer():\n",
    "    \"\"\"Ignore CTRL+C in the worker process.\"\"\"\n",
    "    signal.signal(signal.SIGINT, signal.SIG_IGN)"
   ]
  },
  {
   "cell_type": "code",
   "execution_count": 3,
   "id": "9eff253c-7b26-4328-9f6b-0334ccf661e0",
   "metadata": {
    "tags": []
   },
   "outputs": [],
   "source": [
    "def get_name_map():\n",
    "    name_mapping = {}\n",
    "\n",
    "    base_dir = \"../../mfcad/labels/\"\n",
    "    for file in tqdm(os.listdir(base_dir)):\n",
    "        if file[0] != '.':\n",
    "            with open(base_dir+file, 'r') as f:\n",
    "                data = json.load(f)\n",
    "            for face in data['body']['faces']:\n",
    "                name_mapping[face['segment']['index']]=face['segment']['name']\n",
    "    return name_mapping"
   ]
  },
  {
   "cell_type": "code",
   "execution_count": 4,
   "id": "00d05381-fa0e-4337-9122-916ef79f236c",
   "metadata": {
    "tags": []
   },
   "outputs": [],
   "source": [
    "import pandas as pd\n",
    "def get_name_map():\n",
    "    name_mapping = {}\n",
    "    return pd.read_csv(\"../../data/MFCAD++_dataset/feature_labels.txt\", skiprows=6, header=None, sep=\" - \").set_index(0)[1].to_dict()\n"
   ]
  },
  {
   "cell_type": "code",
   "execution_count": 5,
   "id": "ad93bd3d-72c3-46ea-8775-956e99907c82",
   "metadata": {
    "tags": []
   },
   "outputs": [
    {
     "name": "stderr",
     "output_type": "stream",
     "text": [
      "/tmp/ipykernel_9145/2325836227.py:4: ParserWarning: Falling back to the 'python' engine because the 'c' engine does not support regex separators (separators > 1 char and different from '\\s+' are interpreted as regex); you can avoid this warning by specifying engine='python'.\n",
      "  return pd.read_csv(\"../../data/MFCAD++_dataset/feature_labels.txt\", skiprows=6, header=None, sep=\" - \").set_index(0)[1].to_dict()\n"
     ]
    },
    {
     "data": {
      "text/plain": [
       "469"
      ]
     },
     "execution_count": 5,
     "metadata": {},
     "output_type": "execute_result"
    }
   ],
   "source": [
    "# with open(\"../../labels_100ep_model_fix2.json\", 'r') as f:\n",
    "\n",
    "with open(\"../../test_labels/labels_10ep_model_20samples_new_data.json\", 'r') as f:\n",
    "    labels = json.load(f)\n",
    "with open(\"../../data/janush_dataset//non_duplicated_filenames.json\", 'r') as f:\n",
    "    allowed = set(json.load(f))\n",
    "labels = [x for x in labels if x['part'] in allowed]\n",
    "\n",
    "name_map = get_name_map()\n",
    "len(labels)"
   ]
  },
  {
   "cell_type": "code",
   "execution_count": 6,
   "id": "7d2c7105-f261-4f64-bc42-b7085a0b988f",
   "metadata": {
    "tags": []
   },
   "outputs": [],
   "source": [
    "groups = {\"Chamfer\": [\"Chamfer\", \"Round\"], \n",
    "          \"Passage\": ['Triangular passage', 'Rectangular passage', '6-sided passage'],\n",
    "          \"Through slot\" :['Triangular through slot', 'Rectangular through slot', 'Circular through slot'], \n",
    "          \"Through step\": ['Rectangular through step', '2-sided through step', 'Slanted through step'],\n",
    "          \"Closed pocket\": ['Triangular pocket', 'Rectangular pocket', '6-sided pocket', 'Circular end pocket', 'Blind hole', \"O-ring\"],\n",
    "          \"Blind Slot\": ['Rectangular blind slot', 'Vertical circular end blind slot', 'Horizontal circular end blind slot'],\n",
    "          \"Blind step\": ['Triangular blind step', 'Circular blind step']}\n",
    "\n",
    "new_map = {}\n",
    "id_map = {}\n",
    "for k, v in name_map.items():\n",
    "    passed = False\n",
    "    for k1, v1 in groups.items():\n",
    "        if v in v1:\n",
    "           new_map[k] = k1\n",
    "           passed = True\n",
    "    if not passed:\n",
    "        new_map[k] = v\n",
    "id_map = {}\n",
    "for i,k in enumerate(set(new_map.values())):\n",
    "    id_map[k] = i\n",
    "new_map = {k: id_map[v] for k,v in new_map.items()} "
   ]
  },
  {
   "cell_type": "code",
   "execution_count": 7,
   "id": "00e4388b-cbb8-401b-adb4-5d156157a018",
   "metadata": {
    "tags": []
   },
   "outputs": [],
   "source": [
    "def get_mechanical_features(filename):\n",
    "    features = []\n",
    "    with open(f\"../../data/janush_dataset/raw/{filename}.FRT\", 'r') as f:\n",
    "        for line in f:\n",
    "            if line:\n",
    "                features.append([x for x in line.split(\",\") if x and x != \"\\n\"])\n",
    "    return features"
   ]
  },
  {
   "cell_type": "code",
   "execution_count": 8,
   "id": "cfc492da-e35f-42ff-9a90-12df465a1af2",
   "metadata": {
    "tags": []
   },
   "outputs": [],
   "source": [
    "def estimate_result(l):\n",
    "    shape, mapping = Compound.load_step_with_attributes(f\"../../data/janush_dataset//raw/{l['part']}.stp\")\n",
    "    mechanical_features = get_mechanical_features(l['part'])\n",
    "    flat_faces = []\n",
    "    [flat_faces.extend(x) for x in mechanical_features]\n",
    "\n",
    "    truth = [1000] * shape.num_faces()\n",
    "\n",
    "    index_map = {}\n",
    "    for i, face in enumerate(shape.faces()):\n",
    "        try:\n",
    "            index_map[mapping[face]['name']] = i\n",
    "            if mapping[face]['name'] in flat_faces:\n",
    "                truth[i] = 1\n",
    "        except KeyError as e:\n",
    "            pass\n",
    "    \n",
    "    mechanical_features = [[index_map[y] for y in x] for x in mechanical_features]\n",
    "    \n",
    "    occs = []\n",
    "    for i, cls in enumerate(l['labels']):\n",
    "        if truth[i] == 1:\n",
    "            occs.append(new_map[cls])\n",
    "    return {\"part\": l['part'], \"shape\": shape, \"truth\": truth,\n",
    "            \"mechanical_features\": mechanical_features, \"occurencies\": occs, \n",
    "            \"predict\": [new_map[x] for x in l['labels']]}"
   ]
  },
  {
   "cell_type": "code",
   "execution_count": null,
   "id": "f5047fe4-d5cc-4fe3-9fb9-606af9d52b7c",
   "metadata": {
    "tags": []
   },
   "outputs": [],
   "source": []
  },
  {
   "cell_type": "code",
   "execution_count": null,
   "id": "0225f23a-8e2f-4e6c-a8de-f84cd8341016",
   "metadata": {
    "tags": []
   },
   "outputs": [],
   "source": []
  },
  {
   "cell_type": "code",
   "execution_count": 9,
   "id": "1b32fc4d-ae18-4c63-bb09-f6666a0b3f9d",
   "metadata": {
    "tags": []
   },
   "outputs": [
    {
     "name": "stderr",
     "output_type": "stream",
     "text": [
      "100%|██████████| 469/469 [00:13<00:00, 33.89it/s]\n"
     ]
    }
   ],
   "source": [
    "pool = Pool(processes=50, initializer=initializer)\n",
    "try:\n",
    "    results = list(tqdm(pool.imap(estimate_result, labels), total=len(labels)))\n",
    "except KeyboardInterrupt:\n",
    "    pool.terminate()\n",
    "    pool.join()"
   ]
  },
  {
   "cell_type": "code",
   "execution_count": 10,
   "id": "baccd2b3-2240-493f-b938-d820c88f90e2",
   "metadata": {
    "tags": []
   },
   "outputs": [
    {
     "data": {
      "text/plain": [
       "3    9999\n",
       "4     394\n",
       "7     278\n",
       "0     217\n",
       "9     153\n",
       "6     145\n",
       "5      64\n",
       "2      17\n",
       "1      14\n",
       "8       4\n",
       "dtype: int64"
      ]
     },
     "execution_count": 10,
     "metadata": {},
     "output_type": "execute_result"
    }
   ],
   "source": [
    "occs = []\n",
    "for x in results:\n",
    "    occs.extend(x['occurencies'])\n",
    "pd.Series(occs).value_counts()"
   ]
  },
  {
   "cell_type": "code",
   "execution_count": 11,
   "id": "26e2a278-3b27-44e0-a9e3-1cc470cdb730",
   "metadata": {
    "tags": []
   },
   "outputs": [
    {
     "ename": "NameError",
     "evalue": "name 'occs_features' is not defined",
     "output_type": "error",
     "traceback": [
      "\u001b[0;31m---------------------------------------------------------------------------\u001b[0m",
      "\u001b[0;31mNameError\u001b[0m                                 Traceback (most recent call last)",
      "Cell \u001b[0;32mIn[11], line 4\u001b[0m\n\u001b[1;32m      1\u001b[0m \u001b[38;5;28;01mimport\u001b[39;00m \u001b[38;5;21;01mnumpy\u001b[39;00m \u001b[38;5;28;01mas\u001b[39;00m \u001b[38;5;21;01mnp\u001b[39;00m\n\u001b[1;32m      3\u001b[0m avg_max_dominance \u001b[38;5;241m=\u001b[39m {}\n\u001b[0;32m----> 4\u001b[0m \u001b[38;5;28;01mfor\u001b[39;00m k,v \u001b[38;5;129;01min\u001b[39;00m \u001b[43moccs_features\u001b[49m\u001b[38;5;241m.\u001b[39mitems():\n\u001b[1;32m      5\u001b[0m     values \u001b[38;5;241m=\u001b[39m []\n\u001b[1;32m      6\u001b[0m     \u001b[38;5;28;01mfor\u001b[39;00m feats \u001b[38;5;129;01min\u001b[39;00m v:\n",
      "\u001b[0;31mNameError\u001b[0m: name 'occs_features' is not defined"
     ]
    }
   ],
   "source": [
    "import numpy as np\n",
    "\n",
    "avg_max_dominance = {}\n",
    "for k,v in occs_features.items():\n",
    "    values = []\n",
    "    for feats in v:\n",
    "        values.append(max(pd.Series(feats).value_counts()) / len(feats))\n",
    "    avg_max_dominance[k] = np.mean(values)"
   ]
  },
  {
   "cell_type": "code",
   "execution_count": null,
   "id": "62212828-c601-41e6-bf0a-06d1f432f512",
   "metadata": {
    "tags": []
   },
   "outputs": [],
   "source": [
    "from matplotlib import pyplot as plt\n",
    "\n",
    "plt.hist(list(avg_max_dominance.values()))"
   ]
  },
  {
   "cell_type": "code",
   "execution_count": 12,
   "id": "6f46eba9-6dbf-452f-b2b1-ef93dc49caad",
   "metadata": {
    "tags": []
   },
   "outputs": [],
   "source": [
    "import numpy as np\n",
    "def weighted_normalized_jaccard(set1, set2):\n",
    "    \"\"\"\n",
    "    Calculates the weighted normalized Jaccard index between two sets.\n",
    "    \n",
    "    Arguments:\n",
    "    set1 -- a set of elements (ground truth)\n",
    "    set2 -- a set of elements (predicted)\n",
    "    \n",
    "    Returns:\n",
    "    The weighted normalized Jaccard index between the two sets.\n",
    "    \"\"\"\n",
    "    intersection = set1.intersection(set2)\n",
    "    union = set1.union(set2)\n",
    "    jaccard = len(intersection) / len(union) if len(union) > 0 else 0\n",
    "    weight = len(set1) / len(set2) if len(set2) > len(set1) else len(set2) / len(set1)\n",
    "    return jaccard * weight\n",
    "\n",
    "def get_mf(graph, truth, labels):\n",
    "    mfs = [set() for _ in range(len(truth))]\n",
    "    def check_node(graph, start_truth, i, labels):\n",
    "        target_label = labels[start_truth]\n",
    "        mfs[i].update([start_truth])\n",
    "        for k in graph.neighbors(start_truth):\n",
    "            if labels[k] == target_label:\n",
    "                if k not in mfs[i]:\n",
    "                    mfs[i].update([start_truth])\n",
    "                    check_node(graph, k, i, labels)\n",
    "    \n",
    "    for i, start_truth in enumerate(truth):\n",
    "        check_node(graph, start_truth, i, labels)\n",
    "    max_measure = -1\n",
    "    max_index = -1\n",
    "    for i, mf in enumerate(mfs):\n",
    "        measure = weighted_normalized_jaccard(set(truth), mf)\n",
    "        if measure > max_measure:\n",
    "            max_measure = measure\n",
    "            max_index = i\n",
    "    return mfs[max_index], max_measure"
   ]
  },
  {
   "cell_type": "code",
   "execution_count": 13,
   "id": "896fe05f-886d-48a0-a0ff-5ee4f084ddd6",
   "metadata": {
    "tags": []
   },
   "outputs": [],
   "source": [
    "def get_predicted_mf(r):\n",
    "    graph = face_adjacency(r['shape'])\n",
    "    mfs = {}\n",
    "    for truth in r['mechanical_features']:\n",
    "        mfs[tuple(truth)] = get_mf(graph, truth, r['predict'])\n",
    "    return {r['part']: [np.mean([x[1] for x in mfs.values()]), mfs]}"
   ]
  },
  {
   "cell_type": "code",
   "execution_count": 14,
   "id": "11fe5da1-c6e7-4b2a-a814-a1f31d3c19d5",
   "metadata": {
    "tags": []
   },
   "outputs": [
    {
     "name": "stderr",
     "output_type": "stream",
     "text": [
      "100%|██████████| 469/469 [01:33<00:00,  5.03it/s]\n"
     ]
    }
   ],
   "source": [
    "pool = Pool(processes=50, initializer=initializer)\n",
    "try:\n",
    "    predicted_mfs = list(tqdm(pool.imap(get_predicted_mf, results), total=len(results)))\n",
    "except KeyboardInterrupt:\n",
    "    pool.terminate()\n",
    "    pool.join()\n"
   ]
  },
  {
   "cell_type": "code",
   "execution_count": 15,
   "id": "af27688a-37e3-45e1-ad15-360d6713caeb",
   "metadata": {
    "tags": []
   },
   "outputs": [],
   "source": [
    "prediced = {}\n",
    "for x in predicted_mfs:\n",
    "    prediced.update(x)"
   ]
  },
  {
   "cell_type": "code",
   "execution_count": 16,
   "id": "f49887f8-5699-4c6c-a0f1-f941f55c0858",
   "metadata": {
    "tags": []
   },
   "outputs": [
    {
     "data": {
      "text/plain": [
       "0.4778964135805167"
      ]
     },
     "execution_count": 16,
     "metadata": {},
     "output_type": "execute_result"
    },
    {
     "data": {
      "image/png": "[encoded data removed]",
      "text/plain": [
       "<Figure size 640x480 with 1 Axes>"
      ]
     },
     "metadata": {},
     "output_type": "display_data"
    }
   ],
   "source": [
    "plt.hist([x[0] for x in prediced.values()])\n",
    "np.mean([x[0] for x in prediced.values()])"
   ]
  },
  {
   "cell_type": "code",
   "execution_count": null,
   "id": "ef7b6b2e-6ba7-4a47-9300-ad227744d561",
   "metadata": {},
   "outputs": [],
   "source": []
  },
  {
   "cell_type": "code",
   "execution_count": 55,
   "id": "0f39e0ad-00fc-49bb-aebb-e8ec344b3399",
   "metadata": {
    "tags": []
   },
   "outputs": [],
   "source": [
    "def plot_truth(res):\n",
    "    v = Viewer()\n",
    "    v.display_face_colormap(res['shape'], res['truth'])\n",
    "    v.show()\n",
    "\n",
    "def plot_labels(res):\n",
    "    print(f\"prediction for {res['part']}\")\n",
    "    all_feats = []                       \n",
    "    for i, feature in enumerate(res['mechanical_features']):\n",
    "        print(f\"Feature {i}:\")\n",
    "        counter = []\n",
    "        for face in feature:\n",
    "            counter.append(res['predict'][face])\n",
    "        print(pd.Series(counter).value_counts())\n",
    "        all_feats.extend(counter)\n",
    "        print(\"total\")\n",
    "    print(pd.Series(all_feats).value_counts())\n",
    "    v = Viewer()\n",
    "    \n",
    "    v.display_face_colormap(res['shape'], res['predict'])\n",
    "    v.show()"
   ]
  },
  {
   "cell_type": "code",
   "execution_count": 56,
   "id": "d1ab393f-1151-4a74-9964-e1a8c94eb4a6",
   "metadata": {
    "tags": []
   },
   "outputs": [
    {
     "ename": "NameError",
     "evalue": "name 'perfect_matches' is not defined",
     "output_type": "error",
     "traceback": [
      "\u001b[0;31m---------------------------------------------------------------------------\u001b[0m",
      "\u001b[0;31mNameError\u001b[0m                                 Traceback (most recent call last)",
      "Cell \u001b[0;32mIn[56], line 3\u001b[0m\n\u001b[1;32m      1\u001b[0m ind \u001b[38;5;241m=\u001b[39m \u001b[38;5;241m14\u001b[39m\n\u001b[0;32m----> 3\u001b[0m \u001b[38;5;28mprint\u001b[39m(prediced[\u001b[43mperfect_matches\u001b[49m[ind][\u001b[38;5;124m'\u001b[39m\u001b[38;5;124mpart\u001b[39m\u001b[38;5;124m'\u001b[39m]][\u001b[38;5;241m0\u001b[39m])\n\u001b[1;32m      4\u001b[0m plot_truth(perfect_matches[ind]), plot_labels(perfect_matches[ind])\n",
      "\u001b[0;31mNameError\u001b[0m: name 'perfect_matches' is not defined"
     ]
    }
   ],
   "source": [
    "ind = 14\n",
    "\n",
    "print(prediced[perfect_matches[ind]['part']][0])\n",
    "plot_truth(perfect_matches[ind]), plot_labels(perfect_matches[ind])"
   ]
  },
  {
   "cell_type": "code",
   "execution_count": 31,
   "id": "ced0ed4c-8800-4fa9-a0ae-b3fc8974b3cb",
   "metadata": {
    "tags": []
   },
   "outputs": [],
   "source": [
    "print(1)"
   ]
  },
  {
   "cell_type": "code",
   "execution_count": 37,
   "id": "322d5aa6-42e0-49ca-9534-7461cd06b11c",
   "metadata": {
    "tags": []
   },
   "outputs": [
    {
     "ename": "NameError",
     "evalue": "name 'top_truth' is not defined",
     "output_type": "error",
     "traceback": [
      "\u001b[0;31m---------------------------------------------------------------------------\u001b[0m",
      "\u001b[0;31mNameError\u001b[0m                                 Traceback (most recent call last)",
      "Cell \u001b[0;32mIn[37], line 1\u001b[0m\n\u001b[0;32m----> 1\u001b[0m r \u001b[38;5;241m=\u001b[39m \u001b[43mtop_truth\u001b[49m[\u001b[38;5;124m'\u001b[39m\u001b[38;5;124m00350942_583bc49850155f10b9b140fd_step_000_step\u001b[39m\u001b[38;5;124m'\u001b[39m]\n\u001b[1;32m      2\u001b[0m plot_truth(r), plot_labels(r)\n",
      "\u001b[0;31mNameError\u001b[0m: name 'top_truth' is not defined"
     ]
    }
   ],
   "source": [
    "r = top_truth['00350942_583bc49850155f10b9b140fd_step_000_step']\n",
    "plot_truth(r), plot_labels(r)"
   ]
  },
  {
   "cell_type": "code",
   "execution_count": null,
   "id": "8db2b0cb-bd79-4961-b15d-50a727fc1b10",
   "metadata": {
    "tags": []
   },
   "outputs": [],
   "source": [
    "r = top_truth['00350942_583bc49850155f10b9b140fd_step_000_step']\n",
    "plot_truth(r), plot_labels(r)"
   ]
  },
  {
   "cell_type": "code",
   "execution_count": null,
   "id": "2e66819a-2836-43bf-9dcc-90d8e2da558f",
   "metadata": {
    "tags": []
   },
   "outputs": [],
   "source": [
    "r = results[100]\n",
    "len(r['predict']), len(r['truth']), len(list(r['shape'].faces()))"
   ]
  },
  {
   "cell_type": "code",
   "execution_count": null,
   "id": "ccf1f8d9-2079-428e-9eaa-6a5b2036b2d2",
   "metadata": {
    "tags": []
   },
   "outputs": [],
   "source": [
    "r['predict']"
   ]
  },
  {
   "cell_type": "code",
   "execution_count": null,
   "id": "da45d1cf-d167-4730-a311-b6c5eada40de",
   "metadata": {},
   "outputs": [],
   "source": []
  },
  {
   "cell_type": "code",
   "execution_count": null,
   "id": "5a7cd2ce-746a-4587-9d35-9b10cc48ad1f",
   "metadata": {},
   "outputs": [],
   "source": []
  },
  {
   "cell_type": "code",
   "execution_count": 39,
   "id": "9908c504-f49b-47d9-ab37-76fd09d34f3b",
   "metadata": {
    "tags": []
   },
   "outputs": [],
   "source": [
    "import argparse\n",
    "import pathlib\n",
    "import json\n",
    "import dgl\n",
    "import numpy as np\n",
    "import torch\n",
    "from occwl.graph import face_adjacency\n",
    "from occwl.compound import Compound\n",
    "from occwl.uvgrid import ugrid, uvgrid\n",
    "from tqdm import tqdm\n",
    "from multiprocessing.pool import Pool\n",
    "from itertools import repeat\n",
    "import signal\n",
    "def initializer():\n",
    "    \"\"\"Ignore CTRL+C in the worker process.\"\"\"\n",
    "    signal.signal(signal.SIGINT, signal.SIG_IGN)\n",
    "\n",
    "def build_graph(solid, curv_num_u_samples, surf_num_u_samples, surf_num_v_samples):\n",
    "    # Build face adjacency graph with B-rep entities as node and edge features\n",
    "    graph = face_adjacency(solid)\n",
    "\n",
    "    # Compute the UV-grids for faces\n",
    "    graph_face_feat = []\n",
    "    for face_idx in graph.nodes:\n",
    "        # Get the B-rep face\n",
    "        face = graph.nodes[face_idx][\"face\"]\n",
    "        # Compute UV-grids\n",
    "        points = uvgrid(\n",
    "            face, method=\"point\", num_u=surf_num_u_samples, num_v=surf_num_v_samples\n",
    "        )\n",
    "        # print(points)\n",
    "        normals = uvgrid(\n",
    "            face, method=\"normal\", num_u=surf_num_u_samples, num_v=surf_num_v_samples\n",
    "        )\n",
    "        visibility_status = uvgrid(\n",
    "            face, method=\"visibility_status\", num_u=surf_num_u_samples, num_v=surf_num_v_samples\n",
    "        )\n",
    "        mask = np.logical_or(visibility_status == 0, visibility_status == 2)  # 0: Inside, 1: Outside, 2: On boundary\n",
    "        # Concatenate channel-wise to form face feature tensor\n",
    "        face_feat = np.concatenate((points, normals, mask), axis=-1)\n",
    "        graph_face_feat.append(face_feat)\n",
    "    graph_face_feat = np.asarray(graph_face_feat)\n",
    "\n",
    "    # Compute the U-grids for edges\n",
    "    graph_edge_feat = []\n",
    "    for edge_idx in graph.edges:\n",
    "        # Get the B-rep edge\n",
    "        edge = graph.edges[edge_idx][\"edge\"]\n",
    "        # Ignore dgenerate edges, e.g. at apex of cone\n",
    "        if not edge.has_curve():\n",
    "            continue\n",
    "        # Compute U-grids\n",
    "        points = ugrid(edge, method=\"point\", num_u=curv_num_u_samples)\n",
    "        tangents = ugrid(edge, method=\"tangent\", num_u=curv_num_u_samples)\n",
    "        # Concatenate channel-wise to form edge feature tensor\n",
    "        edge_feat = np.concatenate((points, tangents), axis=-1)\n",
    "        graph_edge_feat.append(edge_feat)\n",
    "    graph_edge_feat = np.asarray(graph_edge_feat)\n",
    "\n",
    "    # Convert face-adj graph to DGL format\n",
    "    edges = list(graph.edges)\n",
    "    src = [e[0] for e in edges]\n",
    "    dst = [e[1] for e in edges]\n",
    "    dgl_graph = dgl.graph((src, dst), num_nodes=len(graph.nodes))\n",
    "    dgl_graph.ndata[\"x\"] = torch.from_numpy(graph_face_feat)\n",
    "    dgl_graph.edata[\"x\"] = torch.from_numpy(graph_edge_feat)\n",
    "    return dgl_graph\n",
    "\n",
    "\n",
    "def process_one_file(arguments):\n",
    "    try:\n",
    "        fn, args = arguments\n",
    "        fn_stem = fn.stem\n",
    "        output_path = pathlib.Path(args.output)\n",
    "        solid, mapping = Compound.load_step_with_attributes(fn)\n",
    "        #solid = solid[0]\n",
    "        if args.convert_labels:\n",
    "            labels = [int(mapping[face]['name']) for face in solid.faces() if face in mapping]\n",
    "            with open(str(output_path)+\"_labels/\"+fn_stem+\".json\", 'w') as f:\n",
    "                json.dump(labels, f)\n",
    "        graph = build_graph(\n",
    "            solid, args.curv_u_samples, args.surf_u_samples, args.surf_v_samples\n",
    "        )\n",
    "        dgl.data.utils.save_graphs(str(output_path.joinpath(fn_stem + \".bin\")), [graph]) #_color\n",
    "    except Exception as e:\n",
    "        print(e)\n",
    "\n",
    "\n",
    "def initializer():\n",
    "    \"\"\"Ignore CTRL+C in the worker process.\"\"\"\n",
    "    signal.signal(signal.SIGINT, signal.SIG_IGN)\n",
    "\n",
    "\n",
    "def process(args):\n",
    "    input_path = pathlib.Path(args.input)\n",
    "    output_path = pathlib.Path(args.output)\n",
    "    if not output_path.exists():\n",
    "        output_path.mkdir(parents=True, exist_ok=True)\n",
    "    step_files = list(input_path.glob(\"*.st*p\"))\n",
    "    # for fn in tqdm(step_files):\n",
    "    #     process_one_file(fn, args)\n",
    "    pool = Pool(processes=50, initializer=initializer)\n",
    "    try:\n",
    "        results = list(tqdm(pool.imap(process_one_file, zip(step_files, repeat(args))), total=len(step_files)))\n",
    "    except KeyboardInterrupt:\n",
    "        pool.terminate()\n",
    "        pool.join()\n",
    "    print(f\"Processed {len(results)} files.\")"
   ]
  },
  {
   "cell_type": "code",
   "execution_count": null,
   "id": "b1f3a6a9-e2bc-4a2b-b1cb-8aa95e12ae22",
   "metadata": {},
   "outputs": [],
   "source": []
  },
  {
   "cell_type": "code",
   "execution_count": null,
   "id": "898ce97c-5a67-44ee-8773-03a41ded34c8",
   "metadata": {
    "tags": []
   },
   "outputs": [],
   "source": [
    "# path_data_raw = \"../../data/machining_features_sprint_1/raw\"\n",
    "# path_data = \"../../data/machining_features_sprint_1/graphs_20/\"\n",
    "\n",
    "# path_data_raw = \"../../MFCAD/dataset/step\"\n",
    "# path_data = \"/home/egor/data/mfcad30/graph/\"\n",
    "\n",
    "path_data_raw = \"../../data/janush_dataset/raw\"\n",
    "path_data = \"/home/egor/data/janush_dataset/tst/\"\n",
    "nsamples = 10\n",
    "args = argparse.Namespace(input=path_data_raw, output=path_data, convert_labels=False,\n",
    "                          curv_u_samples=nsamples, surf_u_samples=nsamples, surf_v_samples=nsamples, num_processes=50)\n",
    "\n",
    "input_path = pathlib.Path(args.input)\n",
    "output_path = pathlib.Path(args.output)\n",
    "if not output_path.exists():\n",
    "    output_path.mkdir(parents=True, exist_ok=True)\n",
    "step_files = list(input_path.glob(\"*.st*p\"))\n",
    "pool = Pool(processes=50, initializer=initializer)\n",
    "try:\n",
    "    results = list(tqdm(pool.imap(process_one_file, zip(step_files, repeat(args))), total=len(step_files)))\n",
    "except KeyboardInterrupt:\n",
    "    pool.terminate()\n",
    "    pool.join()"
   ]
  },
  {
   "cell_type": "code",
   "execution_count": 33,
   "id": "b0288eb3-329a-4fdb-a8b1-801b1d155991",
   "metadata": {
    "tags": []
   },
   "outputs": [
    {
     "name": "stderr",
     "output_type": "stream",
     "text": [
      "  0%|          | 175/41766 [00:03<09:19, 74.38it/s] "
     ]
    },
    {
     "name": "stdout",
     "output_type": "stream",
     "text": [
      "Warning! - The same oriented edge appears twice in the same solid\n",
      "\n",
      "Warning! - The same oriented edge appears twice in the same solidWarning! - The same oriented edge appears twice in the same solid\n",
      "Warning! - The same oriented edge appears twice in the same solid\n",
      "\n"
     ]
    },
    {
     "name": "stderr",
     "output_type": "stream",
     "text": [
      "  3%|▎         | 1374/41766 [00:06<01:19, 506.68it/s]"
     ]
    },
    {
     "name": "stdout",
     "output_type": "stream",
     "text": [
      "Warning! - The same oriented edge appears twice in the same solid\n",
      "Warning! - The same oriented edge appears twice in the same solid\n",
      "Warning! - The same oriented edge appears twice in the same solid\n",
      "Warning! - The same oriented edge appears twice in the same solid\n",
      "Expected a manifold, an edge must be incident on one/two faces\n"
     ]
    },
    {
     "name": "stderr",
     "output_type": "stream",
     "text": [
      "  6%|▌         | 2322/41766 [00:08<01:48, 362.05it/s]"
     ]
    },
    {
     "name": "stdout",
     "output_type": "stream",
     "text": [
      "Warning! - The same oriented edge appears twice in the same solid\n",
      "Warning! - The same oriented edge appears twice in the same solid\n"
     ]
    },
    {
     "name": "stderr",
     "output_type": "stream",
     "text": [
      "  6%|▌         | 2436/41766 [00:08<01:39, 395.81it/s]"
     ]
    },
    {
     "name": "stdout",
     "output_type": "stream",
     "text": [
      "\n"
     ]
    },
    {
     "name": "stderr",
     "output_type": "stream",
     "text": [
      "  9%|▉         | 3775/41766 [00:12<01:44, 364.12it/s]"
     ]
    },
    {
     "name": "stdout",
     "output_type": "stream",
     "text": [
      "Warning! - The same oriented edge appears twice in the same solid\n",
      "\n"
     ]
    },
    {
     "name": "stderr",
     "output_type": "stream",
     "text": [
      " 15%|█▍        | 6211/41766 [00:17<01:49, 324.55it/s]"
     ]
    },
    {
     "name": "stdout",
     "output_type": "stream",
     "text": [
      "Warning! - The same oriented edge appears twice in the same solid\n",
      "Warning! - The same oriented edge appears twice in the same solid\n",
      "Warning! - The same oriented edge appears twice in the same solid\n",
      "Warning! - The same oriented edge appears twice in the same solid\n",
      "Warning! - The same oriented edge appears twice in the same solid\n",
      "Warning! - The same oriented edge appears twice in the same solid\n"
     ]
    },
    {
     "name": "stderr",
     "output_type": "stream",
     "text": [
      " 15%|█▌        | 6301/41766 [00:18<02:03, 286.19it/s]"
     ]
    },
    {
     "name": "stdout",
     "output_type": "stream",
     "text": [
      "\n"
     ]
    },
    {
     "name": "stderr",
     "output_type": "stream",
     "text": [
      " 16%|█▌        | 6766/41766 [00:19<01:13, 479.11it/s]"
     ]
    },
    {
     "name": "stdout",
     "output_type": "stream",
     "text": [
      "Warning! - The same oriented edge appears twice in the same solid\n",
      "Warning! - The same oriented edge appears twice in the same solid\n",
      "Expected a manifold, an edge must be incident on one/two faces\n"
     ]
    },
    {
     "name": "stderr",
     "output_type": "stream",
     "text": [
      " 19%|█▊        | 7760/41766 [00:21<01:00, 557.74it/s]"
     ]
    },
    {
     "name": "stdout",
     "output_type": "stream",
     "text": [
      "Warning! - The same oriented edge appears twice in the same solid\n",
      "Warning! - The same oriented edge appears twice in the same solid\n",
      "Warning! - The same oriented edge appears twice in the same solid\n",
      "Warning! - The same oriented edge appears twice in the same solid\n",
      "Expected a manifold, an edge must be incident on one/two faces\n"
     ]
    },
    {
     "name": "stderr",
     "output_type": "stream",
     "text": [
      " 20%|██        | 8397/41766 [00:23<01:41, 328.25it/s]"
     ]
    },
    {
     "name": "stdout",
     "output_type": "stream",
     "text": [
      "Warning! - The same oriented edge appears twice in the same solid\n",
      "Warning! - The same oriented edge appears twice in the same solid\n",
      "Expected a manifold, an edge must be incident on one/two faces\n"
     ]
    },
    {
     "name": "stderr",
     "output_type": "stream",
     "text": [
      " 30%|███       | 12676/41766 [00:33<01:24, 345.10it/s]"
     ]
    },
    {
     "name": "stdout",
     "output_type": "stream",
     "text": [
      "Warning! - The same oriented edge appears twice in the same solid\n",
      "Warning! - The same oriented edge appears twice in the same solid\n",
      "Warning! - The same oriented edge appears twice in the same solid\n",
      "\n"
     ]
    },
    {
     "name": "stderr",
     "output_type": "stream",
     "text": [
      " 31%|███▏      | 13063/41766 [00:34<01:04, 446.64it/s]"
     ]
    },
    {
     "name": "stdout",
     "output_type": "stream",
     "text": [
      "Warning! - The same oriented edge appears twice in the same solid\n",
      "Warning! - The same oriented edge appears twice in the same solid\n",
      "Warning! - The same oriented edge appears twice in the same solid\n",
      "Warning! - The same oriented edge appears twice in the same solid\n",
      "Warning! - The same oriented edge appears twice in the same solid\n",
      "Warning! - The same oriented edge appears twice in the same solid\n",
      "\n"
     ]
    },
    {
     "name": "stderr",
     "output_type": "stream",
     "text": [
      " 34%|███▎      | 14054/41766 [00:36<01:11, 385.26it/s]"
     ]
    },
    {
     "name": "stdout",
     "output_type": "stream",
     "text": [
      "Warning! - The same oriented edge appears twice in the same solid\n",
      "Warning! - The same oriented edge appears twice in the same solid\n"
     ]
    },
    {
     "name": "stderr",
     "output_type": "stream",
     "text": [
      " 34%|███▍      | 14173/41766 [00:36<00:52, 524.46it/s]"
     ]
    },
    {
     "name": "stdout",
     "output_type": "stream",
     "text": [
      "Expected a manifold, an edge must be incident on one/two faces\n"
     ]
    },
    {
     "name": "stderr",
     "output_type": "stream",
     "text": [
      " 41%|████      | 17075/41766 [00:43<01:10, 349.84it/s]"
     ]
    },
    {
     "name": "stdout",
     "output_type": "stream",
     "text": [
      "Warning! - The same oriented edge appears twice in the same solid\n",
      "\n"
     ]
    },
    {
     "name": "stderr",
     "output_type": "stream",
     "text": [
      " 43%|████▎     | 18077/41766 [00:45<00:51, 458.06it/s]"
     ]
    },
    {
     "name": "stdout",
     "output_type": "stream",
     "text": [
      "Warning! - The same oriented edge appears twice in the same solid\n",
      "\n"
     ]
    },
    {
     "name": "stderr",
     "output_type": "stream",
     "text": [
      " 43%|████▎     | 18141/41766 [00:46<01:04, 366.19it/s]"
     ]
    },
    {
     "name": "stdout",
     "output_type": "stream",
     "text": [
      "Edge doesn't belong to face\n"
     ]
    },
    {
     "name": "stderr",
     "output_type": "stream",
     "text": [
      " 46%|████▌     | 19241/41766 [00:48<00:57, 395.12it/s]"
     ]
    },
    {
     "name": "stdout",
     "output_type": "stream",
     "text": [
      "Warning! - The same oriented edge appears twice in the same solid\n",
      "\n"
     ]
    },
    {
     "name": "stderr",
     "output_type": "stream",
     "text": [
      " 52%|█████▏    | 21741/41766 [00:54<00:45, 437.14it/s]"
     ]
    },
    {
     "name": "stdout",
     "output_type": "stream",
     "text": [
      "Warning! - The same oriented edge appears twice in the same solid\n",
      "Warning! - The same oriented edge appears twice in the same solid\n",
      "Warning! - The same oriented edge appears twice in the same solid\n",
      "Warning! - The same oriented edge appears twice in the same solid\n",
      "\n"
     ]
    },
    {
     "name": "stderr",
     "output_type": "stream",
     "text": [
      " 53%|█████▎    | 22184/41766 [00:55<00:55, 351.68it/s]"
     ]
    },
    {
     "name": "stdout",
     "output_type": "stream",
     "text": [
      "Warning! - The same oriented edge appears twice in the same solid\n",
      "Warning! - The same oriented edge appears twice in the same solid\n",
      "Warning! - The same oriented edge appears twice in the same solid\n",
      "Warning! - The same oriented edge appears twice in the same solid\n",
      "Warning! - The same oriented edge appears twice in the same solid\n",
      "Warning! - The same oriented edge appears twice in the same solid\n",
      "Warning! - The same oriented edge appears twice in the same solid\n",
      "Warning! - The same oriented edge appears twice in the same solid\n",
      "Warning! - The same oriented edge appears twice in the same solid\n",
      "Warning! - The same oriented edge appears twice in the same solid\n",
      "Warning! - The same oriented edge appears twice in the same solid\n",
      "Warning! - The same oriented edge appears twice in the same solid\n",
      "\n"
     ]
    },
    {
     "name": "stderr",
     "output_type": "stream",
     "text": [
      " 53%|█████▎    | 22298/41766 [00:55<00:38, 502.88it/s]"
     ]
    },
    {
     "name": "stdout",
     "output_type": "stream",
     "text": [
      "Warning! - The same oriented edge appears twice in the same solid\n",
      "Warning! - The same oriented edge appears twice in the same solid\n"
     ]
    },
    {
     "name": "stderr",
     "output_type": "stream",
     "text": [
      " 54%|█████▎    | 22356/41766 [00:55<00:48, 399.98it/s]"
     ]
    },
    {
     "name": "stdout",
     "output_type": "stream",
     "text": [
      "Expected a manifold, an edge must be incident on one/two faces\n"
     ]
    },
    {
     "name": "stderr",
     "output_type": "stream",
     "text": [
      " 55%|█████▍    | 22780/41766 [00:56<00:44, 424.97it/s]"
     ]
    },
    {
     "name": "stdout",
     "output_type": "stream",
     "text": [
      "Warning! - The same oriented edge appears twice in the same solid\n",
      "Warning! - The same oriented edge appears twice in the same solid\n",
      "Warning! - The same oriented edge appears twice in the same solid\n"
     ]
    },
    {
     "name": "stderr",
     "output_type": "stream",
     "text": [
      " 55%|█████▍    | 22827/41766 [00:56<00:44, 429.32it/s]"
     ]
    },
    {
     "name": "stdout",
     "output_type": "stream",
     "text": [
      "\n"
     ]
    },
    {
     "name": "stderr",
     "output_type": "stream",
     "text": [
      " 55%|█████▌    | 23033/41766 [00:57<00:37, 494.04it/s]"
     ]
    },
    {
     "name": "stdout",
     "output_type": "stream",
     "text": [
      "Warning! - The same oriented edge appears twice in the same solid\n",
      "Warning! - The same oriented edge appears twice in the same solid\n",
      "Warning! - The same oriented edge appears twice in the same solid\n",
      "Warning! - The same oriented edge appears twice in the same solid\n",
      "Warning! - The same oriented edge appears twice in the same solid\n",
      "Warning! - The same oriented edge appears twice in the same solid\n",
      "Expected a manifold, an edge must be incident on one/two faces\n"
     ]
    },
    {
     "name": "stderr",
     "output_type": "stream",
     "text": [
      " 55%|█████▌    | 23088/41766 [00:57<00:44, 423.61it/s]"
     ]
    },
    {
     "name": "stdout",
     "output_type": "stream",
     "text": [
      "Warning! - The same oriented edge appears twice in the same solid\n",
      "Warning! - The same oriented edge appears twice in the same solid\n",
      "Warning! - The same oriented edge appears twice in the same solid\n",
      "Warning! - The same oriented edge appears twice in the same solid\n",
      "Warning! - The same oriented edge appears twice in the same solid\n",
      "Warning! - The same oriented edge appears twice in the same solid\n",
      "\n"
     ]
    },
    {
     "name": "stderr",
     "output_type": "stream",
     "text": [
      " 57%|█████▋    | 23617/41766 [00:58<00:40, 453.42it/s]"
     ]
    },
    {
     "name": "stdout",
     "output_type": "stream",
     "text": [
      "Warning! - The same oriented edge appears twice in the same solid\n",
      "Warning! - The same oriented edge appears twice in the same solid\n",
      "Warning! - The same oriented edge appears twice in the same solid\n",
      "Warning! - The same oriented edge appears twice in the same solid\n",
      "Warning! - The same oriented edge appears twice in the same solid\n",
      "Warning! - The same oriented edge appears twice in the same solid\n",
      "\n"
     ]
    },
    {
     "name": "stderr",
     "output_type": "stream",
     "text": [
      " 60%|█████▉    | 25056/41766 [01:02<00:32, 517.95it/s]"
     ]
    },
    {
     "name": "stdout",
     "output_type": "stream",
     "text": [
      "Warning! - The same oriented edge appears twice in the same solid\n",
      "\n"
     ]
    },
    {
     "name": "stderr",
     "output_type": "stream",
     "text": [
      " 67%|██████▋   | 28084/41766 [01:09<00:45, 303.09it/s]"
     ]
    },
    {
     "name": "stdout",
     "output_type": "stream",
     "text": [
      "Warning! - The same oriented edge appears twice in the same solid\n",
      "Warning! - The same oriented edge appears twice in the same solid\n",
      "Expected a manifold, an edge must be incident on one/two faces\n"
     ]
    },
    {
     "name": "stderr",
     "output_type": "stream",
     "text": [
      " 69%|██████▉   | 28831/41766 [01:11<00:36, 358.83it/s]"
     ]
    },
    {
     "name": "stdout",
     "output_type": "stream",
     "text": [
      "Warning! - The same oriented edge appears twice in the same solid\n",
      "\n"
     ]
    },
    {
     "name": "stderr",
     "output_type": "stream",
     "text": [
      " 72%|███████▏  | 29912/41766 [01:13<00:24, 489.30it/s]"
     ]
    },
    {
     "name": "stdout",
     "output_type": "stream",
     "text": [
      "Warning! - The same oriented edge appears twice in the same solid\n",
      "Warning! - The same oriented edge appears twice in the same solid\n",
      "Warning! - The same oriented edge appears twice in the same solid\n",
      "Warning! - The same oriented edge appears twice in the same solid\n",
      "Expected a manifold, an edge must be incident on one/two faces\n"
     ]
    },
    {
     "name": "stderr",
     "output_type": "stream",
     "text": [
      " 79%|███████▊  | 32872/41766 [01:20<00:20, 426.93it/s]"
     ]
    },
    {
     "name": "stdout",
     "output_type": "stream",
     "text": [
      "Warning! - The same oriented edge appears twice in the same solid\n",
      "Warning! - The same oriented edge appears twice in the same solid\n",
      "Expected a manifold, an edge must be incident on one/two faces\n"
     ]
    },
    {
     "name": "stderr",
     "output_type": "stream",
     "text": [
      " 79%|███████▉  | 33183/41766 [01:21<00:21, 396.09it/s]"
     ]
    },
    {
     "name": "stdout",
     "output_type": "stream",
     "text": [
      "Warning! - The same oriented edge appears twice in the same solid\n",
      "Warning! - The same oriented edge appears twice in the same solid\n",
      "Warning! - The same oriented edge appears twice in the same solid\n",
      "Warning! - The same oriented edge appears twice in the same solid\n",
      "\n"
     ]
    },
    {
     "name": "stderr",
     "output_type": "stream",
     "text": [
      " 82%|████████▏ | 34153/41766 [01:23<00:19, 396.14it/s]"
     ]
    },
    {
     "name": "stdout",
     "output_type": "stream",
     "text": [
      "Warning! - The same oriented edge appears twice in the same solid\n",
      "Warning! - The same oriented edge appears twice in the same solid\n",
      "Expected a manifold, an edge must be incident on one/two faces\n"
     ]
    },
    {
     "name": "stderr",
     "output_type": "stream",
     "text": [
      " 82%|████████▏ | 34453/41766 [01:24<00:16, 446.71it/s]"
     ]
    },
    {
     "name": "stdout",
     "output_type": "stream",
     "text": [
      "Warning! - The same oriented edge appears twice in the same solid\n",
      "\n"
     ]
    },
    {
     "name": "stderr",
     "output_type": "stream",
     "text": [
      " 83%|████████▎ | 34722/41766 [01:24<00:13, 513.95it/s]"
     ]
    },
    {
     "name": "stdout",
     "output_type": "stream",
     "text": [
      "Warning! - The same oriented edge appears twice in the same solid\n",
      "Warning! - The same oriented edge appears twice in the same solid\n",
      "Warning! - The same oriented edge appears twice in the same solid\n",
      "Warning! - The same oriented edge appears twice in the same solid\n",
      "\n"
     ]
    },
    {
     "name": "stderr",
     "output_type": "stream",
     "text": [
      " 84%|████████▎ | 34888/41766 [01:25<00:13, 521.95it/s]"
     ]
    },
    {
     "name": "stdout",
     "output_type": "stream",
     "text": [
      "Warning! - The same oriented edge appears twice in the same solid\n",
      "Warning! - The same oriented edge appears twice in the same solid\n",
      "Warning! - The same oriented edge appears twice in the same solid\n",
      "Warning! - The same oriented edge appears twice in the same solid\n",
      "\n"
     ]
    },
    {
     "name": "stderr",
     "output_type": "stream",
     "text": [
      " 84%|████████▍ | 35259/41766 [01:26<00:18, 352.77it/s]"
     ]
    },
    {
     "name": "stdout",
     "output_type": "stream",
     "text": [
      "Warning! - The same oriented edge appears twice in the same solid\n",
      "\n"
     ]
    },
    {
     "name": "stderr",
     "output_type": "stream",
     "text": [
      " 89%|████████▊ | 37067/41766 [01:30<00:09, 485.99it/s]"
     ]
    },
    {
     "name": "stdout",
     "output_type": "stream",
     "text": [
      "Edge doesn't belong to face\n"
     ]
    },
    {
     "name": "stderr",
     "output_type": "stream",
     "text": [
      " 92%|█████████▏| 38433/41766 [01:33<00:07, 470.76it/s]"
     ]
    },
    {
     "name": "stdout",
     "output_type": "stream",
     "text": [
      "Warning! - The same oriented edge appears twice in the same solid\n",
      "Warning! - The same oriented edge appears twice in the same solid\n",
      "\n"
     ]
    },
    {
     "name": "stderr",
     "output_type": "stream",
     "text": [
      " 94%|█████████▎| 39140/41766 [01:35<00:05, 445.19it/s]"
     ]
    },
    {
     "name": "stdout",
     "output_type": "stream",
     "text": [
      "Warning! - The same oriented edge appears twice in the same solid\n",
      "\n"
     ]
    },
    {
     "name": "stderr",
     "output_type": "stream",
     "text": [
      "100%|██████████| 41766/41766 [01:41<00:00, 411.25it/s]\n",
      "  1%|          | 103/8949 [00:03<02:29, 59.12it/s]"
     ]
    },
    {
     "name": "stdout",
     "output_type": "stream",
     "text": [
      "Warning! - The same oriented edge appears twice in the same solid\n",
      "\n"
     ]
    },
    {
     "name": "stderr",
     "output_type": "stream",
     "text": [
      " 46%|████▌     | 4075/8949 [00:13<00:11, 424.38it/s]"
     ]
    },
    {
     "name": "stdout",
     "output_type": "stream",
     "text": [
      "Warning! - The same oriented edge appears twice in the same solid\n",
      "Warning! - The same oriented edge appears twice in the same solid\n",
      "Expected a manifold, an edge must be incident on one/two faces\n"
     ]
    },
    {
     "name": "stderr",
     "output_type": "stream",
     "text": [
      " 47%|████▋     | 4212/8949 [00:13<00:10, 472.69it/s]"
     ]
    },
    {
     "name": "stdout",
     "output_type": "stream",
     "text": [
      "Warning! - The same oriented edge appears twice in the same solid\n",
      "Warning! - The same oriented edge appears twice in the same solid\n",
      "Warning! - The same oriented edge appears twice in the same solid\n",
      "\n"
     ]
    },
    {
     "name": "stderr",
     "output_type": "stream",
     "text": [
      " 53%|█████▎    | 4765/8949 [00:14<00:08, 467.84it/s]"
     ]
    },
    {
     "name": "stdout",
     "output_type": "stream",
     "text": [
      "Warning! - The same oriented edge appears twice in the same solid\n",
      "Warning! - The same oriented edge appears twice in the same solid\n",
      "Warning! - The same oriented edge appears twice in the same solid\n",
      "Warning! - The same oriented edge appears twice in the same solid\n",
      "Warning! - The same oriented edge appears twice in the same solid\n",
      "Warning! - The same oriented edge appears twice in the same solid\n",
      "Warning! - The same oriented edge appears twice in the same solid\n",
      "Warning! - The same oriented edge appears twice in the same solid\n",
      "Warning! - The same oriented edge appears twice in the same solid\n",
      "Warning! - The same oriented edge appears twice in the same solid\n",
      "\n"
     ]
    },
    {
     "name": "stderr",
     "output_type": "stream",
     "text": [
      " 70%|██████▉   | 6259/8949 [00:18<00:05, 482.81it/s]"
     ]
    },
    {
     "name": "stdout",
     "output_type": "stream",
     "text": [
      "Warning! - The same oriented edge appears twice in the same solid\n",
      "\n"
     ]
    },
    {
     "name": "stderr",
     "output_type": "stream",
     "text": [
      " 80%|███████▉  | 7126/8949 [00:20<00:03, 473.34it/s]"
     ]
    },
    {
     "name": "stdout",
     "output_type": "stream",
     "text": [
      "Warning! - The same oriented edge appears twice in the same solid\n",
      "Warning! - The same oriented edge appears twice in the same solid\n",
      "Warning! - The same oriented edge appears twice in the same solid\n",
      "Warning! - The same oriented edge appears twice in the same solid\n",
      "Warning! - The same oriented edge appears twice in the same solid\n",
      "Warning! - The same oriented edge appears twice in the same solid\n",
      "Warning! - The same oriented edge appears twice in the same solid\n",
      "\n"
     ]
    },
    {
     "name": "stderr",
     "output_type": "stream",
     "text": [
      " 91%|█████████ | 8113/8949 [00:22<00:02, 375.76it/s]"
     ]
    },
    {
     "name": "stdout",
     "output_type": "stream",
     "text": [
      "Warning! - The same oriented edge appears twice in the same solid\n",
      "Warning! - The same oriented edge appears twice in the same solid\n",
      "Warning! - The same oriented edge appears twice in the same solid\n",
      "\n"
     ]
    },
    {
     "name": "stderr",
     "output_type": "stream",
     "text": [
      "100%|██████████| 8949/8949 [00:24<00:00, 361.93it/s]\n",
      "  0%|          | 0/8950 [00:00<?, ?it/s]"
     ]
    },
    {
     "name": "stdout",
     "output_type": "stream",
     "text": [
      "Edge doesn't belong to face\n"
     ]
    },
    {
     "name": "stderr",
     "output_type": "stream",
     "text": [
      " 10%|▉         | 887/8950 [00:05<00:19, 420.30it/s]"
     ]
    },
    {
     "name": "stdout",
     "output_type": "stream",
     "text": [
      "Warning! - The same oriented edge appears twice in the same solid\n",
      "Warning! - The same oriented edge appears twice in the same solid\n",
      "\n"
     ]
    },
    {
     "name": "stderr",
     "output_type": "stream",
     "text": [
      " 12%|█▏        | 1112/8950 [00:06<00:13, 568.05it/s]"
     ]
    },
    {
     "name": "stdout",
     "output_type": "stream",
     "text": [
      "Warning! - The same oriented edge appears twice in the same solid\n",
      "Warning! - The same oriented edge appears twice in the same solid\n",
      "Expected a manifold, an edge must be incident on one/two faces\n"
     ]
    },
    {
     "name": "stderr",
     "output_type": "stream",
     "text": [
      " 27%|██▋       | 2412/8950 [00:09<00:15, 425.06it/s]"
     ]
    },
    {
     "name": "stdout",
     "output_type": "stream",
     "text": [
      "Warning! - The same oriented edge appears twice in the same solid\n",
      "Warning! - The same oriented edge appears twice in the same solid\n",
      "Expected a manifold, an edge must be incident on one/two faces\n"
     ]
    },
    {
     "name": "stderr",
     "output_type": "stream",
     "text": [
      " 54%|█████▍    | 4816/8950 [00:14<00:08, 472.51it/s]"
     ]
    },
    {
     "name": "stdout",
     "output_type": "stream",
     "text": [
      "Warning! - The same oriented edge appears twice in the same solid\n",
      "Warning! - The same oriented edge appears twice in the same solid\n",
      "Warning! - The same oriented edge appears twice in the same solid\n",
      "Warning! - The same oriented edge appears twice in the same solid\n",
      "Warning! - The same oriented edge appears twice in the same solid\n",
      "Warning! - The same oriented edge appears twice in the same solid\n",
      "Expected a manifold, an edge must be incident on one/two faces\n",
      "Warning! - The same oriented edge appears twice in the same solid\n",
      "\n"
     ]
    },
    {
     "name": "stderr",
     "output_type": "stream",
     "text": [
      " 63%|██████▎   | 5672/8950 [00:17<00:08, 376.13it/s]"
     ]
    },
    {
     "name": "stdout",
     "output_type": "stream",
     "text": [
      "Warning! - The same oriented edge appears twice in the same solid\n",
      "Warning! - The same oriented edge appears twice in the same solid\n",
      "Expected a manifold, an edge must be incident on one/two faces\n"
     ]
    },
    {
     "name": "stderr",
     "output_type": "stream",
     "text": [
      " 69%|██████▊   | 6150/8950 [00:18<00:07, 398.56it/s]"
     ]
    },
    {
     "name": "stdout",
     "output_type": "stream",
     "text": [
      "Warning! - The same oriented edge appears twice in the same solid\n",
      "\n"
     ]
    },
    {
     "name": "stderr",
     "output_type": "stream",
     "text": [
      " 98%|█████████▊| 8739/8950 [00:24<00:00, 493.61it/s]"
     ]
    },
    {
     "name": "stdout",
     "output_type": "stream",
     "text": [
      "Warning! - The same oriented edge appears twice in the same solid\n"
     ]
    },
    {
     "name": "stderr",
     "output_type": "stream",
     "text": [
      " 98%|█████████▊| 8806/8950 [00:24<00:00, 529.16it/s]"
     ]
    },
    {
     "name": "stdout",
     "output_type": "stream",
     "text": [
      "\n"
     ]
    },
    {
     "name": "stderr",
     "output_type": "stream",
     "text": [
      "100%|██████████| 8950/8950 [00:24<00:00, 361.97it/s]\n"
     ]
    }
   ],
   "source": [
    "\n",
    "for split in [\"train\", \"test\", \"val\"]:\n",
    "\n",
    "    path_data_raw = f\"../../data/MFCAD++_dataset/step/{split}\"\n",
    "    path_data = f\"../../data/MFCAD++_dataset/converted_10/{split}\"\n",
    "    nsamples = 10\n",
    "    args = argparse.Namespace(input=path_data_raw, output=path_data, convert_labels=True,\n",
    "                              curv_u_samples=nsamples, surf_u_samples=nsamples, surf_v_samples=nsamples, num_processes=50)\n",
    "\n",
    "    input_path = pathlib.Path(args.input)\n",
    "    output_path = pathlib.Path(args.output)\n",
    "    labels_path = pathlib.Path(args.output+\"_labels\")\n",
    "    \n",
    "    if not output_path.exists():\n",
    "        output_path.mkdir(parents=True, exist_ok=True)\n",
    "    if not labels_path.exists():\n",
    "        labels_path.mkdir(parents=True, exist_ok=True)\n",
    "        \n",
    "    step_files = list(input_path.glob(\"*.st*p\"))\n",
    "    pool = Pool(processes=100, initializer=initializer)\n",
    "    try:\n",
    "        results = list(tqdm(pool.imap(process_one_file, zip(step_files, repeat(args))), total=len(step_files)))\n",
    "    except KeyboardInterrupt:\n",
    "        pool.terminate()\n",
    "        pool.join()"
   ]
  },
  {
   "cell_type": "code",
   "execution_count": 14,
   "id": "9dee34ea-4b9b-4cb5-bd97-88f3dc7b9445",
   "metadata": {
    "tags": []
   },
   "outputs": [],
   "source": [
    "tt = {\"train\": {}, \"test\": {}, \"val\": {}}\n",
    "\n",
    "for vvv in tt:\n",
    "    with open(f\"../../data/MFCAD++_dataset/{vvv}.txt\", 'r') as f:\n",
    "        i = 0\n",
    "        for t in f.readlines():\n",
    "            tt[vvv][i] = int(t.replace(\"\\n\", \"\"))\n",
    "            i+=1"
   ]
  },
  {
   "cell_type": "code",
   "execution_count": 16,
   "id": "67199bf5-a7c6-4356-93c0-27c2c17d5b48",
   "metadata": {
    "tags": []
   },
   "outputs": [],
   "source": [
    "import json \n",
    "with open(\"../../data/MFCAD++_dataset/train_test.json\", \"w\") as f:\n",
    "    json.dump(tt, f)"
   ]
  },
  {
   "cell_type": "code",
   "execution_count": 19,
   "id": "f56a5ea2-5d35-403a-a9e5-3cc3bada09ce",
   "metadata": {
    "tags": []
   },
   "outputs": [
    {
     "name": "stderr",
     "output_type": "stream",
     "text": [
      "/tmp/ipykernel_3878848/671604117.py:2: ParserWarning: Falling back to the 'python' engine because the 'c' engine does not support regex separators (separators > 1 char and different from '\\s+' are interpreted as regex); you can avoid this warning by specifying engine='python'.\n",
      "  df = pd.read_csv(\"../../data/MFCAD++_dataset/feature_labels.txt\", skiprows=6, header=None, sep=\" - \").set_index(0)[1].to_dict()\n"
     ]
    }
   ],
   "source": [
    "import pandas as pd\n",
    "df = pd.read_csv(\"../../data/MFCAD++_dataset/feature_labels.txt\", skiprows=6, header=None, sep=\" - \").set_index(0)[1].to_dict()"
   ]
  },
  {
   "cell_type": "code",
   "execution_count": 21,
   "id": "7bc00543-f154-46ba-8943-ed59d1ea449f",
   "metadata": {
    "tags": []
   },
   "outputs": [],
   "source": [
    "import json \n",
    "with open(\"../../data/MFCAD++_dataset/segment_names.json\", \"w\") as f:\n",
    "    json.dump(df, f)"
   ]
  },
  {
   "cell_type": "code",
   "execution_count": null,
   "id": "e2c7b67a-0f44-41f3-95a7-5654c593470a",
   "metadata": {},
   "outputs": [],
   "source": []
  }
 ],
 "metadata": {
  "kernelspec": {
   "display_name": "uv_net",
   "language": "python",
   "name": "uv_net"
  },
  "language_info": {
   "codemirror_mode": {
    "name": "ipython",
    "version": 3
   },
   "file_extension": ".py",
   "mimetype": "text/x-python",
   "name": "python",
   "nbconvert_exporter": "python",
   "pygments_lexer": "ipython3",
   "version": "3.9.16"
  }
 },
 "nbformat": 4,
 "nbformat_minor": 5
}
